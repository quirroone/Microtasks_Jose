{
 "cells": [
  {
   "cell_type": "markdown",
   "metadata": {},
   "source": [
    "# Microtask 2  (Implementing CHAOSS metrics with Perceval idea)\n",
    "\n",
    "By: José Alberto Marcial Sánchez"
   ]
  },
  {
   "cell_type": "markdown",
   "metadata": {},
   "source": [
    "## Table of contents\n",
    "<ol>\n",
    "    <li><a href=#objective>Objective</a></li>\n",
    "    <li><a href=#retrieving>Retrieving the data</a></li>\n",
    "    <li><a href=#dividing>Dividing the data into different dataframes depending on it's repository</a></li>\n",
    "    <li><a href=#filtering>Filtering the data(getting just info from the last 3 months</a></li>\n",
    "    <li><a href=#plotting>Plotting</a></li>\n",
    "\n",
    " <ol>"
   ]
  },
  {
   "cell_type": "markdown",
   "metadata": {},
   "source": [
    "<h2><a id=\"objective\" style=\"color:black;\">Objective</a></h2>\n",
    "<br>\n",
    "Produce a listing of repositories, as a table and as CSV file, with the number of commits authored, issues opened, and pull/merge requests opened, during the last three months, ordered by the total number (commits plus issues plus pull requests). Pandas can be used"
   ]
  },
  {
   "cell_type": "code",
   "execution_count": null,
   "metadata": {},
   "outputs": [],
   "source": []
  }
 ],
 "metadata": {
  "kernelspec": {
   "display_name": "Python 3",
   "language": "python",
   "name": "python3"
  },
  "language_info": {
   "codemirror_mode": {
    "name": "ipython",
    "version": 3
   },
   "file_extension": ".py",
   "mimetype": "text/x-python",
   "name": "python",
   "nbconvert_exporter": "python",
   "pygments_lexer": "ipython3",
   "version": "3.7.1"
  }
 },
 "nbformat": 4,
 "nbformat_minor": 2
}
