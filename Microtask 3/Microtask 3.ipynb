{
 "cells": [
  {
   "cell_type": "markdown",
   "metadata": {},
   "source": [
    "# Microtask 3 (Implementing CHAOSS metrics with Perceval idea)"
   ]
  },
  {
   "cell_type": "markdown",
   "metadata": {},
   "source": [
    "## Objective\n",
    "\n",
    "<p>Produce a notebook with charts showing the distribution of time-to-close for issues already closed, and opened during the last year, for each of the repositories analyzed, and for all of them together. Use Pandas for this, and the Python charting library of your choice (as long as it is a FOSS module).</p>"
   ]
  },
  {
   "cell_type": "markdown",
   "metadata": {},
   "source": [
    "## Retrieving the data\n",
    "\n",
    "<p> For this task, information from the following GitHub repos will be analyzed:</p>\n",
    "<ul>\n",
    "    <li>Perceval (https://github.com/chaoss/grimoirelab-perceval)</li>\n",
    "    <li>SortingHat (https://github.com/chaoss/grimoirelab-sortinghat)</li>\n",
    "    <li>Kibiter (https://github.com/chaoss/grimoirelab-kibiter)</li>\n",
    "</ul>"
   ]
  },
  {
   "cell_type": "markdown",
   "metadata": {},
   "source": [
    "### Date of retrieval: April 3rd 2019"
   ]
  },
  {
   "cell_type": "markdown",
   "metadata": {},
   "source": [
    "<p> The following commands were executed on terminal to write the retrieved data to the issues.json file:\n",
    "    (XXXX after the -t should be replaced with a valid <a href = \"https://help.github.com/en/articles/creating-a-personal-access-token-for-the-command-line\">GitHub API Token</a>)\n",
    "</p>\n",
    "\n",
    "````\n",
    "perceval github --json-line --category issue grimoirelab perceval --sleep-for-rate -t XXXX > issues.json \n",
    "\n",
    "perceval github --json-line --category issue grimoirelab sortinghat --sleep-for-rate -t XXXX >> issues.json \n",
    "\n",
    "perceval github --json-line --category issue grimoirelab kibiter --sleep-for-rate -t XXXX >> issues.json \n",
    "````\n",
    "\n"
   ]
  },
  {
   "cell_type": "markdown",
   "metadata": {},
   "source": [
    "## Cleaning the data\n",
    "\n",
    "<p>As <a href = \"https://chaoss.github.io/grimoirelab-tutorial/perceval/github.html#retrieving-from-github-with-no-credentials\">Perceval documentation</a> indicates, \"in GitHub every pull request is an issue, but not every issue is a pull request. Thus, the issues returned may contain pull request information (included in the field pull_request within the issue).\"\n",
    "<p>\n",
    "<p> So the next step is just selecting those issues with no \"pull_request\" inside the issue 'data' field </p>"
   ]
  },
  {
   "cell_type": "code",
   "execution_count": 16,
   "metadata": {},
   "outputs": [],
   "source": [
    "import json\n",
    "import datetime\n",
    "from dateutil import parser\n",
    "import pandas as pd"
   ]
  },
  {
   "cell_type": "code",
   "execution_count": 35,
   "metadata": {
    "scrolled": true
   },
   "outputs": [],
   "source": [
    "#creating a list of issues which are not pull requests\n",
    "clean_issues = []\n",
    "with open('issues.json') as issues_file:\n",
    "    for line in issues_file:\n",
    "        issue = json.loads(line)\n",
    "        ##if theres no pull_request field, we will add it to our issues list\n",
    "        if ('pull_request' not in issue['data']):\n",
    "            clean_issues.append(issue)\n",
    "            "
   ]
  },
  {
   "cell_type": "markdown",
   "metadata": {},
   "source": [
    "## Passing the issue's relevant information to a pandas dataframe\n",
    "\n",
    "<p> The next step is to create a pandas dataframe with every single element in clean_issues as a row of it. In order to achieve this, we are going to create a function called summarizeIssue which will take only relevant features(each of these will be a dataframe's column) for the analysis from each issue </p>"
   ]
  },
  {
   "cell_type": "code",
   "execution_count": 13,
   "metadata": {},
   "outputs": [],
   "source": [
    "## Function based on the _summary function from the Code_changes class in the microstask 0 example\n",
    "\n",
    "def summarizeIssue(issue):\n",
    "    '''\n",
    "    This is a function for summarizing issue's relevant information \n",
    "    \n",
    "    Parameters:\n",
    "    issue(dict) : json's file line describing an issue\n",
    "    \n",
    "    Returns:\n",
    "    dict: A non-nested dictionary which can be easily appended as a row of a dataframe\n",
    "    '''\n",
    "    cdata = issue['data']\n",
    "    summary = {\n",
    "            'repo': issue['origin'],\n",
    "            'uuid': issue['uuid'],\n",
    "            'author': cdata['user']['login'],\n",
    "            'created_date': datetime.datetime.strptime(cdata['created_at'],\n",
    "                                           \"%Y-%m-%dT%H:%M:%SZ\"),\n",
    "            'closed_date':datetime.datetime.strptime(cdata['closed_at'],\n",
    "                                         \"%Y-%m-%dT%H:%M:%SZ\") if cdata['closed_at'] else None, \n",
    "            'url': cdata['html_url'],\n",
    "            'state':cdata['state']\n",
    "    }\n",
    "    return summary"
   ]
  },
  {
   "cell_type": "code",
   "execution_count": 12,
   "metadata": {},
   "outputs": [
    {
     "name": "stdout",
     "output_type": "stream",
     "text": [
      "{'repo': 'https://github.com/grimoirelab/perceval', 'uuid': 'c31e77a3e31bb86301ae7b9eb9f2c9a89ac0feb2', 'author': 'jgbarah', 'created_date': datetime.datetime(2016, 1, 24, 23, 35, 59), 'closed_date': datetime.datetime(2016, 1, 25, 13, 13, 32), 'url': 'https://github.com/chaoss/grimoirelab-perceval/issues/8', 'state': 'closed'}\n"
     ]
    }
   ],
   "source": [
    "print (summarizeIssue(clean_issues[0]))"
   ]
  },
  {
   "cell_type": "code",
   "execution_count": 28,
   "metadata": {},
   "outputs": [],
   "source": [
    "col_names = ['repo', 'uuid', 'author', 'created_date', 'closed_date', 'url','state' ]\n",
    "issues_df = pd.DataFrame(columns = col_names)\n",
    "\n",
    "for issue in clean_issues:\n",
    "    issues_df = issues_df.append(pd.Series(summarizeIssue(issue)), ignore_index = True)"
   ]
  },
  {
   "cell_type": "code",
   "execution_count": 40,
   "metadata": {},
   "outputs": [
    {
     "data": {
      "text/html": [
       "<div>\n",
       "<style scoped>\n",
       "    .dataframe tbody tr th:only-of-type {\n",
       "        vertical-align: middle;\n",
       "    }\n",
       "\n",
       "    .dataframe tbody tr th {\n",
       "        vertical-align: top;\n",
       "    }\n",
       "\n",
       "    .dataframe thead th {\n",
       "        text-align: right;\n",
       "    }\n",
       "</style>\n",
       "<table border=\"1\" class=\"dataframe\">\n",
       "  <thead>\n",
       "    <tr style=\"text-align: right;\">\n",
       "      <th></th>\n",
       "      <th>uuid</th>\n",
       "      <th>author</th>\n",
       "      <th>created_date</th>\n",
       "      <th>closed_date</th>\n",
       "      <th>url</th>\n",
       "      <th>state</th>\n",
       "    </tr>\n",
       "    <tr>\n",
       "      <th>repo</th>\n",
       "      <th></th>\n",
       "      <th></th>\n",
       "      <th></th>\n",
       "      <th></th>\n",
       "      <th></th>\n",
       "      <th></th>\n",
       "    </tr>\n",
       "  </thead>\n",
       "  <tbody>\n",
       "    <tr>\n",
       "      <th>https://github.com/grimoirelab/kibiter</th>\n",
       "      <td>10</td>\n",
       "      <td>10</td>\n",
       "      <td>10</td>\n",
       "      <td>8</td>\n",
       "      <td>10</td>\n",
       "      <td>10</td>\n",
       "    </tr>\n",
       "    <tr>\n",
       "      <th>https://github.com/grimoirelab/perceval</th>\n",
       "      <td>184</td>\n",
       "      <td>184</td>\n",
       "      <td>184</td>\n",
       "      <td>144</td>\n",
       "      <td>184</td>\n",
       "      <td>184</td>\n",
       "    </tr>\n",
       "    <tr>\n",
       "      <th>https://github.com/grimoirelab/sortinghat</th>\n",
       "      <td>95</td>\n",
       "      <td>95</td>\n",
       "      <td>95</td>\n",
       "      <td>74</td>\n",
       "      <td>95</td>\n",
       "      <td>95</td>\n",
       "    </tr>\n",
       "  </tbody>\n",
       "</table>\n",
       "</div>"
      ],
      "text/plain": [
       "                                           uuid  author  created_date  \\\n",
       "repo                                                                    \n",
       "https://github.com/grimoirelab/kibiter       10      10            10   \n",
       "https://github.com/grimoirelab/perceval     184     184           184   \n",
       "https://github.com/grimoirelab/sortinghat    95      95            95   \n",
       "\n",
       "                                           closed_date  url  state  \n",
       "repo                                                                \n",
       "https://github.com/grimoirelab/kibiter               8   10     10  \n",
       "https://github.com/grimoirelab/perceval            144  184    184  \n",
       "https://github.com/grimoirelab/sortinghat           74   95     95  "
      ]
     },
     "execution_count": 40,
     "metadata": {},
     "output_type": "execute_result"
    }
   ],
   "source": [
    "issues_df.groupby('repo').count()"
   ]
  },
  {
   "cell_type": "code",
   "execution_count": null,
   "metadata": {},
   "outputs": [],
   "source": []
  }
 ],
 "metadata": {
  "kernelspec": {
   "display_name": "Python 3",
   "language": "python",
   "name": "python3"
  },
  "language_info": {
   "codemirror_mode": {
    "name": "ipython",
    "version": 3
   },
   "file_extension": ".py",
   "mimetype": "text/x-python",
   "name": "python",
   "nbconvert_exporter": "python",
   "pygments_lexer": "ipython3",
   "version": "3.7.1"
  }
 },
 "nbformat": 4,
 "nbformat_minor": 2
}
