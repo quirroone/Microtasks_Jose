{
 "cells": [
  {
   "cell_type": "markdown",
   "metadata": {},
   "source": [
    "[![Binder](https://mybinder.org/badge_logo.svg)](https://mybinder.org/v2/gh/chaoss/wg-gmd/master?filepath=implementations/Code_Changes-Git.ipynb)\n",
    "# Code_Changes-Git\n",
    "\n",
    "This is the reference implementation for Code_Changes,\n",
    "a metric specified by the\n",
    "[GMD Working Group](https://github.com/chaoss/wg-gmd) of the\n",
    "[CHAOSS project](https://chaoss.community).\n",
    "This implementation is specific to Git repositories.\n",
    "\n",
    "See [README.md](README.md) to find out how to run this notebook (and others in this directory).\n",
    "\n",
    "The implementation is described in two parts (see below):\n",
    "\n",
    "* Retrieving data from the data source\n",
    "* Class for computing Code_Changes\n",
    "\n",
    "Some more auxiliary information in this notebook:\n",
    "\n",
    "* Examples of the use of the implementation\n",
    "* Examples of how to check for specific peculiarities of git commits"
   ]
  },
  {
   "cell_type": "markdown",
   "metadata": {},
   "source": [
    "## Retrieving data from the data source\n",
    "\n",
    "Retrieve commits data from the Sortinghat, SirMordred and Perceval git repositories which are located in the folllwing links:\n",
    "http://github.com/chaoss/grimoirelab-perceval\n",
    "http://github.com/chaoss/grimoirelab-sortinghat\n",
    "https://github.com/chaoss/grimoirelab-sirmordred\n",
    "\n",
    "```\n",
    "josemasa$ perceval git --json-line http://github.com/chaoss/grimoirelab-perceval > git-commits.json\n",
    "[2019-04-02 14:41:53,679] - Sir Perceval is on his quest.\n",
    "[2019-04-02 14:41:53,681] - Fetching commits: 'http://github.com/chaoss/grimoirelab-perceval' git repository from 1970-01-01 00:00:00+00:00 to 2100-01-01 00:00:00+00:00; all branches\n",
    "[2019-04-02 14:41:55,448] - Fetch process completed: 1354 commits fetched\n",
    "[2019-04-02 14:41:55,448] - Sir Perceval completed his quest.\n",
    " \n",
    " \n",
    "josemasa$ perceval git --json-line http://github.com/chaoss/grimoirelab-sortinghat >> git-commits.json\n",
    "[2019-04-02 14:43:10,196] - Sir Perceval is on his quest.\n",
    "[2019-04-02 14:43:11,438] - Fetching commits: 'http://github.com/chaoss/grimoirelab-sortinghat' git repository from 1970-01-01 00:00:00+00:00 to 2100-01-01 00:00:00+00:00; all branches\n",
    "[2019-04-02 14:43:12,502] - Fetch process completed: 659 commits fetched\n",
    "[2019-04-02 14:43:12,502] - Sir Perceval completed his quest.\n",
    "\n",
    "\n",
    "josemasa$ perceval git --json-line \"https://github.com/chaoss/grimoirelab-sirmordred\" >> git-commits.json\n",
    "[2019-04-02 14:48:41,198] - Sir Perceval is on his quest.\n",
    "[2019-04-02 14:48:44,526] - Fetching commits: 'https://github.com/chaoss/grimoirelab-sirmordred' git repository from 1970-01-01 00:00:00+00:00 to 2100-01-01 00:00:00+00:00; all branches\n",
    "[2019-04-02 14:48:45,579] - Fetch process completed: 909 commits fetched\n",
    "[2019-04-02 14:48:45,579] - Sir Perceval completed his quest.\n",
    "```"
   ]
  },
  {
   "cell_type": "markdown",
   "metadata": {},
   "source": [
    "## Class for computing Code_Changes-Git \n",
    "(TAKEN FROM THE EXAMPLE VERSION)\n",
    "\n",
    "This implementation uses data retrieved as described above.\n",
    "The implementation is encapsulated in the `Code_Changes` class,\n",
    "which gets all commits for a set of repositories."
   ]
  },
  {
   "cell_type": "code",
   "execution_count": 50,
   "metadata": {},
   "outputs": [],
   "source": [
    "import json\n",
    "import datetime\n",
    "\n",
    "import pandas as pd\n",
    "\n",
    "class Code_Changes:\n",
    "    \"\"\"Class for Code_Changes for Git repositories.\n",
    "    \n",
    "    Objects are instantiated by specifying a file with the\n",
    "    commits obtained by Perceval from a set of repositories.\n",
    "        \n",
    "    :param path: Path to file with one Perceval JSON document per line\n",
    "    \"\"\"\n",
    "\n",
    "    @staticmethod\n",
    "    def _summary(repo, cdata):\n",
    "        \"\"\"Compute a summary of a commit, suitable as a row in a dataframe\"\"\"\n",
    "        \n",
    "        summary = {\n",
    "            'repo': repo,\n",
    "            'hash': cdata['commit'],\n",
    "            'author': cdata['Author'],\n",
    "            'author_date': datetime.datetime.strptime(cdata['AuthorDate'],\n",
    "                                                      \"%a %b %d %H:%M:%S %Y %z\"),\n",
    "            'commit': cdata['Commit'],\n",
    "            'commit_date': datetime.datetime.strptime(cdata['CommitDate'],\n",
    "                                                      \"%a %b %d %H:%M:%S %Y %z\"),\n",
    "            'files_no': len(cdata['files'])\n",
    "        }\n",
    "        actions = 0\n",
    "        for file in cdata['files']:\n",
    "            if 'action' in file:\n",
    "                actions += 1\n",
    "        summary['files_action'] = actions\n",
    "        if 'Merge' in cdata:\n",
    "            summary['merge'] = True\n",
    "        else:\n",
    "            summary['merge'] = False\n",
    "        return summary;\n",
    "    \n",
    "    def __init__(self, path):\n",
    "        \"\"\"Initilizes self.df, the dataframe with one row per commit.\n",
    "        \"\"\"\n",
    "\n",
    "        self.df = pd.DataFrame(columns=['hash', 'author', 'author_date',\n",
    "                                        'commit', 'commit_date',\n",
    "                                        'files_no', 'files_action',\n",
    "                                        'merge'])\n",
    "        commits = []\n",
    "        with open(path) as commits_file:\n",
    "            for line in commits_file:\n",
    "                commit = json.loads(line)\n",
    "                commits.append(self._summary(repo=commit['origin'],\n",
    "                                             cdata=commit['data']))\n",
    "        self.df = self.df.append(commits, sort=False)\n",
    "        self.df['author_date'] = pd.to_datetime(self.df['author_date'], utc=True)\n",
    "        self.df['commit_date'] = pd.to_datetime(self.df['commit_date'], utc=True)\n",
    "        \n",
    "    def total_count(self):\n",
    "        \n",
    "        return len(self.df.index)\n",
    "    \n",
    "    def count(self, since = None, until = None, empty=True, merge=True, date='author_date'):\n",
    "        \"\"\"Count number of commits\n",
    "        \n",
    "        :param since: Period start\n",
    "        :param until: Period end\n",
    "        :param empty: Include empty commits\n",
    "        :param merge: Include merge commits\n",
    "        :param  date: Kind of date ('author_date' or 'commit_date')\n",
    "        \"\"\"\n",
    "        \n",
    "        df = self.df\n",
    "        if since:\n",
    "            df = df[df[date] >= since]\n",
    "        if until:\n",
    "            df = df[df[date] < until]\n",
    "        if not empty:\n",
    "            df = df[df['files_action'] != 0]\n",
    "        if not merge:\n",
    "            df = df[df['merge'] == False]\n",
    "        return df['hash'].nunique()\n",
    "    \n",
    "    def by_month(self):\n",
    "        \n",
    "        return self.df['author_date'] \\\n",
    "            .groupby([self.df.author_date.dt.year.rename('year'),\n",
    "                      self.df.author_date.dt.month.rename('month')]) \\\n",
    "            .agg('count')\n"
   ]
  },
  {
   "cell_type": "markdown",
   "metadata": {},
   "source": [
    "Method `count()` implements `Count` aggregation for `Code_Changes`.\n",
    "It accepts parameters specified for the general metric:\n",
    "    \n",
    "* Period of time: `since` and `until`\n",
    "\n",
    "It accepts parameters specified for the specific case of Git:\n",
    "    \n",
    "* Include merge commits: `merge`\n",
    "* Include empty commits: `empty`\n",
    "* Kind of date: `date`"
   ]
  },
  {
   "cell_type": "markdown",
   "metadata": {},
   "source": [
    "## List of repositories based on JSON file"
   ]
  },
  {
   "cell_type": "code",
   "execution_count": 52,
   "metadata": {},
   "outputs": [
    {
     "name": "stdout",
     "output_type": "stream",
     "text": [
      "{'https://github.com/chaoss/grimoirelab-sirmordred', 'http://github.com/chaoss/grimoirelab-perceval', 'http://github.com/chaoss/grimoirelab-sortinghat'}\n"
     ]
    }
   ],
   "source": [
    "repos = set()\n",
    "with open ('git-commits.json') as commits_file:\n",
    "    for line in commits_file:\n",
    "        commit = json.loads(line)\n",
    "        repos.add(commit['origin'])\n",
    "        \n",
    "print (repos)"
   ]
  },
  {
   "cell_type": "markdown",
   "metadata": {},
   "source": [
    "## Examples of use of the implementation"
   ]
  },
  {
   "cell_type": "code",
   "execution_count": 53,
   "metadata": {
    "scrolled": false
   },
   "outputs": [
    {
     "name": "stdout",
     "output_type": "stream",
     "text": [
      "Code changes total count: 2922\n",
      "Code changes count all period: 2922\n",
      "Code changes count from 2018-01-01 to 2018-07-01: 601\n",
      "Code changes count from 2018-01-01 to 2018-07-01 (no merge commits): 477\n",
      "Code changes count from 2018-01-01 to 2018-07-01 (no empty commits): 478\n"
     ]
    }
   ],
   "source": [
    "changes = Code_Changes('./git-commits.json')\n",
    "print(\"Code changes total count:\", changes.total_count())\n",
    "print(\"Code changes count all period:\", changes.count())\n",
    "print(\"Code changes count from 2018-01-01 to 2018-07-01:\",\n",
    "      changes.count(since=\"2018-01-01\", until=\"2018-07-01\"))\n",
    "print(\"Code changes count from 2018-01-01 to 2018-07-01 (no merge commits):\",\n",
    "      changes.count(since=\"2018-01-01\", until=\"2018-07-01\", merge=False))\n",
    "print(\"Code changes count from 2018-01-01 to 2018-07-01 (no empty commits):\",\n",
    "      changes.count(since=\"2018-01-01\", until=\"2018-07-01\", empty=False))"
   ]
  },
  {
   "cell_type": "markdown",
   "metadata": {},
   "source": [
    "## Checking data consistency"
   ]
  },
  {
   "cell_type": "markdown",
   "metadata": {},
   "source": [
    "### Verifying different actions"
   ]
  },
  {
   "cell_type": "code",
   "execution_count": 55,
   "metadata": {},
   "outputs": [
    {
     "name": "stdout",
     "output_type": "stream",
     "text": [
      "{'M', 'MM', 'A', 'C091', 'D', 'R100', 'R067', 'C062'}\n"
     ]
    }
   ],
   "source": [
    "actions = set()\n",
    "with open('git-commits.json') as commits_file:\n",
    "    for line in commits_file:\n",
    "        commit = json.loads(line)\n",
    "        #will enter just if any file were modified for the commit\n",
    "        if (len(commit['data']['files']) > 0):\n",
    "            if ('action' in commit['data']['files'][0]):\n",
    "                actions.add(commit['data']['files'][0]['action'])\n",
    "\n",
    "#printing unique values\n",
    "print (actions)        "
   ]
  },
  {
   "cell_type": "markdown",
   "metadata": {},
   "source": [
    "### Verifying that the only category is 'commit'"
   ]
  },
  {
   "cell_type": "code",
   "execution_count": 56,
   "metadata": {},
   "outputs": [
    {
     "name": "stdout",
     "output_type": "stream",
     "text": [
      "{'commit'}\n"
     ]
    }
   ],
   "source": [
    "categories = set()\n",
    "with open('git-commits.json') as commits_file:\n",
    "    for line in commits_file:\n",
    "        commit = json.loads(line)\n",
    "        categories.add(commit['category'])\n",
    "        \n",
    "#printing unique values      \n",
    "print (categories)"
   ]
  },
  {
   "cell_type": "markdown",
   "metadata": {},
   "source": [
    "## Counting and displaying distinct committers to the repositories"
   ]
  },
  {
   "cell_type": "code",
   "execution_count": 60,
   "metadata": {
    "scrolled": false
   },
   "outputs": [
    {
     "name": "stdout",
     "output_type": "stream",
     "text": [
      "NAMES AND EMAILS OF DIFFERENT COMITTERS TO THE ANALYZED REPOS \n",
      " \n",
      "\n",
      "J. Manrique Lopez de la Fuente <jsmanrique@bitergia.com>\n",
      "Jesus M. Gonzalez-Barahona <jgb@gsyc.es>\n",
      "Aniruddha Karajgi <akarajgi0@gmail.com>\n",
      "david <david@starlab.io>\n",
      "David Moreno <dmorenolumb@gmail.com>\n",
      "Andre Klapper <a9016009@gmx.de>\n",
      "dpose <dpose@bitergia.com>\n",
      "zhquan <zhquan@gmail.com>\n",
      "Miguel Ángel Fernández <mafesan@bitergia.com>\n",
      "sumitskj <sumitjangirdss.1@gmail.com>\n",
      "f2014169 <f2014169@hyderabad.bits-pilani.ac.in>\n",
      "Andy Grunwald <andygrunwald@gmail.com>\n",
      "Fil Maj <maj.fil@gmail.com>\n",
      "Lukasz Gryglicki <lukaszgryglicki@o2.pl>\n",
      "Daniel Izquierdo Cortazar <dicortazar@gmail.com>\n",
      "camillem <camillem@users.noreply.github.com>\n",
      "Harshal Mittal <harshalmittal4@gmail.com>\n",
      "Maurizio Pillitu <maoo@apache.org>\n",
      "Alvaro del Castillo <acs@bitergia.com>\n",
      "Alberto Pérez García-Plaza <alpgarcia@bitergia.com>\n",
      "quan <zhquan7@gmail.com>\n",
      "Prabhat <prabhatsharma7298@gmail.com>\n",
      "Miguel Angel Fernandez <mafesan@bitergia.com>\n",
      "David Pose Fernández <dpose@bitergia.com>\n",
      "Alberto Martín <alberto.martin@bitergia.com>\n",
      "anveshc05 <anveshc10047@gmail.com>\n",
      "Alberto Martín <albertinisg@users.noreply.github.com>\n",
      "David Esler <drumandstrum@gmail.com>\n",
      "kaushik-p9 <f20170207@hyderabad.bits-pilani.ac.in>\n",
      "valerio <valerio.cosentino@gmail.com>\n",
      "aswanipranjal <aswani.pranjal@gmail.com>\n",
      "Stephan Barth <stephan.barth@gmail.com>\n",
      "Luis Cañas Díaz <lcanas@bitergia.com>\n",
      "valerio <valcos@bitergia.com>\n",
      "David Moreno Lumbreras <dmorenolumb@gmail.com>\n",
      "Israel Herraiz <israel.herraiz@bbvadata.com>\n",
      "Dawn M. Foster <dawn@dawnfoster.com>\n",
      "Santiago Dueñas <sduenas@bitergia.com>\n",
      "Gregorio Robles <grex@gsyc.urjc.es>\n",
      "alpgarcia <alpgarcia@bitergia.com>\n",
      "Valerio Cosentino <valcos@bitergia.com>\n",
      "Luis Cañas-Díaz <lcanas@bitergia.com>\n",
      "trbs <trbs@trbs.net>\n",
      "MalloZup <dmaiocchi@suse.com>\n",
      "valerio cosentino <valcos@bitergia.com>\n",
      "TOTAL DISTINCT COMMITTERS 45\n"
     ]
    }
   ],
   "source": [
    "distinct_authors = set()\n",
    "with open('git-commits.json') as commits_file:\n",
    "    for line in commits_file:\n",
    "        commit = json.loads(line)\n",
    "        distinct_authors.add(commit['data']['Author'])\n",
    "        \n",
    "print ('NAMES AND EMAILS OF DIFFERENT COMITTERS TO THE ANALYZED REPOS \\n \\n')\n",
    "\n",
    "for author in distinct_authors:\n",
    "    print (author)\n",
    "    \n",
    "print (\"TOTAL DISTINCT COMMITTERS \" + str(len(distinct_authors)))"
   ]
  }
 ],
 "metadata": {
  "kernelspec": {
   "display_name": "Python 3",
   "language": "python",
   "name": "python3"
  },
  "language_info": {
   "codemirror_mode": {
    "name": "ipython",
    "version": 3
   },
   "file_extension": ".py",
   "mimetype": "text/x-python",
   "name": "python",
   "nbconvert_exporter": "python",
   "pygments_lexer": "ipython3",
   "version": "3.7.1"
  }
 },
 "nbformat": 4,
 "nbformat_minor": 2
}
