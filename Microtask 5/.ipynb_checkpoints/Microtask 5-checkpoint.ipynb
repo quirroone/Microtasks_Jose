{
 "cells": [
  {
   "cell_type": "markdown",
   "metadata": {},
   "source": [
    "# Microtask 5  (Implementing CHAOSS metrics with Perceval idea)\n",
    "\n",
    "By: José Alberto Marcial Sánchez"
   ]
  },
  {
   "cell_type": "markdown",
   "metadata": {},
   "source": [
    "## Objective\n",
    "Produce a listing of repositories, as a table and as CSV file, with the number of commits authored, issues opened, and pull/merge requests opened, during the last three months, ordered by the total number (commits plus issues plus pull requests). Pandas can be used"
   ]
  },
  {
   "cell_type": "markdown",
   "metadata": {},
   "source": [
    "## Retrieving the data\n",
    "For this exercise, we are going to retrieve information from the following repositories using perceval:\n",
    "<ol>\n",
    "    <li>https://github.com/google/blockly</li>\n",
    "    <li>https://github.com/google/copybara</li>\n",
    "    <li>https://github.com/google/dopamine</li>\n",
    "</ol>"
   ]
  },
  {
   "cell_type": "markdown",
   "metadata": {},
   "source": [
    "### Date of retrieval: April 6th 2019"
   ]
  },
  {
   "cell_type": "markdown",
   "metadata": {},
   "source": [
    "The following commands were executed on the terminal to write the retrieved data to the info.json file. Remember that you need to replace the XXXX's with your Github API token"
   ]
  },
  {
   "cell_type": "markdown",
   "metadata": {},
   "source": [
    "```` \n",
    "Google Blockly\n",
    "retrieving commits\n",
    "perceval git --json-line https://github.com/google/blockly > info.json\n",
    "\n",
    "retrieving issues and pull requests\n",
    "perceval github --json-line --category issue google blockly --sleep-for-rate -t XXXX >> info.json\n",
    "\n",
    "Google Copybara\n",
    "retrieving commits\n",
    "perceval git --json-line https://github.com/google/copybara >> info.json\n",
    "\n",
    "retrieving issues and pull requests\n",
    "perceval github --json-line --category issue google copybara --sleep-for-rate -t XXXX >> info.json\n",
    "\n",
    "Google Dopamine\n",
    "retrieving commits\n",
    "perceval git --json-line https://github.com/google/dopamine >> info.json\n",
    "\n",
    "retrieving issues and pull requests\n",
    "perceval github --json-line --category issue google dopamine --sleep-for-rate -t XXXX >> info.json\n",
    "\n",
    "\n",
    "````"
   ]
  },
  {
   "cell_type": "markdown",
   "metadata": {},
   "source": [
    "## Dividing the data into different dataframes depending on it's repository"
   ]
  },
  {
   "cell_type": "code",
   "execution_count": 280,
   "metadata": {},
   "outputs": [],
   "source": [
    "##to avoid seeing warnings in the notebook\n",
    "import warnings\n",
    "warnings.filterwarnings('ignore')\n",
    "\n",
    "## Importing the necessary libraries for the analysis and data manipulation\n",
    "import json\n",
    "import datetime\n",
    "from datetime import datetime, timedelta, date\n",
    "from dateutil import parser\n",
    "import pandas as pd\n",
    "import pytz\n",
    "\n",
    "\n",
    "##plotting libraries\n",
    "import seaborn as sns\n",
    "import numpy as np\n",
    "import matplotlib.pyplot as plt\n",
    "from scipy import stats\n"
   ]
  },
  {
   "cell_type": "markdown",
   "metadata": {},
   "source": [
    "Since pull requests are considered issues, we will use the same function to retrieve important information from both"
   ]
  },
  {
   "cell_type": "code",
   "execution_count": 281,
   "metadata": {},
   "outputs": [],
   "source": [
    "## Function based on the _summary function from the Code_changes class in the microstask 0 example\n",
    "\n",
    "def summarizeIssuePullRequest(issue):\n",
    "    '''\n",
    "    This is a function for summarizing issue's relevant information \n",
    "    \n",
    "    Parameters:\n",
    "    issue(dict) : json's file line describing an issue\n",
    "    \n",
    "    Returns:\n",
    "    dict: A non-nested dictionary which can be easily appended as a row of a dataframe\n",
    "    '''\n",
    "    cdata = issue['data']\n",
    "    \n",
    "    ##Adding just the relevant fields from the complete issue/pull\n",
    "    summary = {\n",
    "            'action': 'issue' if 'pull_request' not in cdata else 'pull_request',\n",
    "            'repo': issue['origin'],\n",
    "            'created_date': datetime.strptime(cdata['created_at'], \"%Y-%m-%dT%H:%M:%SZ\").date()\n",
    "    }\n",
    "    return summary"
   ]
  },
  {
   "cell_type": "markdown",
   "metadata": {},
   "source": [
    "Commits structure is different, so we will use a different function to summarize the commits"
   ]
  },
  {
   "cell_type": "code",
   "execution_count": 282,
   "metadata": {},
   "outputs": [],
   "source": [
    "def summarizeCommit(commit):\n",
    "    '''\n",
    "    This is a function for summarizing commit's relevant information \n",
    "    \n",
    "    Parameters:\n",
    "    commit(dict) : json's file line describing a commit\n",
    "    \n",
    "    Returns:\n",
    "    dict: A non-nested dictionary which can be easily appended as a row of a dataframe\n",
    "    '''\n",
    "    cdata = commit['data']\n",
    "    \n",
    "    ##Adding just the relevant fields from the commit\n",
    "    summary = {\n",
    "            'action': 'commit',\n",
    "            'repo': commit['origin'],\n",
    "            ##converting the date from a string to date format\n",
    "            'created_date': datetime.strptime(cdata['CommitDate'],\"%a %b %d %H:%M:%S %Y %z\").date()\n",
    "    }\n",
    "\n",
    "    return summary"
   ]
  },
  {
   "cell_type": "markdown",
   "metadata": {},
   "source": [
    "We are going to create 3 different dataframes, one for each repository to be analyzed."
   ]
  },
  {
   "cell_type": "code",
   "execution_count": 283,
   "metadata": {},
   "outputs": [],
   "source": [
    "##creating a dictionary for the repositories and its links so we don't have to write each link when we want to refer to a repo\n",
    "repo_links = {'blockly' : 'https://github.com/google/blockly', 'copybara' : 'https://github.com/google/copybara','dopamine' : 'https://github.com/google/dopamine'}\n",
    "\n",
    "##columns that each dataframe will contain\n",
    "cols = ['action','repo', 'created_date']\n",
    "\n",
    "#creating 3 dataframes, one for each repository that we will be analyzing\n",
    "blockly_df = pd.DataFrame(columns = cols)\n",
    "copybara_df = pd.DataFrame(columns = cols)\n",
    "dopamine_df = pd.DataFrame(columns = cols)\n",
    "\n",
    "##traversing the json file line by line\n",
    "with open('info.json') as info_file:\n",
    "    for line in info_file:\n",
    "        action = json.loads(line)\n",
    "        ##if the current line is a commit we call the summarizeCommit function, else we call the summarizeIssuePullRequest one\n",
    "        summary = summarizeCommit(action) if action['category'] == 'commit' else summarizeIssuePullRequest(action)\n",
    "        \n",
    "        ##assigning to a dataframe based on the origin repository\n",
    "        if (action['origin'] == repo_links['blockly']):\n",
    "            ##appending the current action as a row of the dataframe\n",
    "            blockly_df = blockly_df.append(pd.Series(summary), ignore_index = True)\n",
    "                \n",
    "        elif (action['origin'] == repo_links['copybara']):\n",
    "            ##appending the current action as a row of the dataframe\n",
    "            copybara_df = copybara_df.append(pd.Series(summary), ignore_index = True)\n",
    "            \n",
    "        else:\n",
    "            ##appending the current action as a row of the dataframe\n",
    "            dopamine_df = dopamine_df.append(pd.Series(summary), ignore_index = True)\n",
    "            "
   ]
  },
  {
   "cell_type": "markdown",
   "metadata": {},
   "source": [
    "Since we are going to be manipulating dates, it's necessary to change the dtype of the `created_date` column to datetime for the 3 dataframes, since it's labeled with an object type. For this we use the `to_datetime` pandas function"
   ]
  },
  {
   "cell_type": "code",
   "execution_count": 284,
   "metadata": {},
   "outputs": [],
   "source": [
    "blockly_df['created_date'] = pd.to_datetime(blockly_df['created_date'])\n",
    "copybara_df['created_date'] = pd.to_datetime(copybara_df['created_date'])\n",
    "dopamine_df['created_date'] = pd.to_datetime(dopamine_df['created_date'])"
   ]
  },
  {
   "cell_type": "markdown",
   "metadata": {},
   "source": [
    "## Filtering the data (getting just info from the last 3 months)"
   ]
  },
  {
   "cell_type": "markdown",
   "metadata": {},
   "source": [
    "Since we just want to analyze info from the last 3 months, we will need to filter our dataframes"
   ]
  },
  {
   "cell_type": "code",
   "execution_count": 303,
   "metadata": {},
   "outputs": [],
   "source": [
    "#Calculating the date 3 months ago\n",
    "three_months_ago_date = (date.today() - timedelta(3*365/12))"
   ]
  },
  {
   "cell_type": "markdown",
   "metadata": {},
   "source": [
    "Keeping the records from just 3 months ago in our dataframes"
   ]
  },
  {
   "cell_type": "code",
   "execution_count": 286,
   "metadata": {},
   "outputs": [],
   "source": [
    "#Storing registers which were created later or on the same date of 3 months ago, which is represented by three_months_ago_date variable\n",
    "blockly_df = blockly_df[blockly_df['created_date'] >= three_months_ago_date]\n",
    "copybara_df = copybara_df[copybara_df['created_date'] >= three_months_ago_date]\n",
    "dopamine_df = dopamine_df[dopamine_df['created_date'] >= three_months_ago_date]"
   ]
  },
  {
   "cell_type": "markdown",
   "metadata": {},
   "source": [
    "We already stored every single register for each repo created in the last 3 months, now we want to count items based on the `action` column in each dataframe. Remember that this column tells us if the register is a pull request, issue or commit. More documentation of the `group_by` method can be found in this link <a href = \"https://pandas.pydata.org/pandas-docs/stable/reference/api/pandas.DataFrame.groupby.html\">Group by in pandas </a>"
   ]
  },
  {
   "cell_type": "code",
   "execution_count": 305,
   "metadata": {},
   "outputs": [],
   "source": [
    "##using the .repo at the end so the count is returned just for that column, not for every numeric column in the dataframe because data would be repeated\n",
    "blockly_grouped = blockly_df.groupby('action').count().repo\n",
    "copybara_grouped = copybara_df.groupby('action').count().repo\n",
    "dopamine_grouped = dopamine_df.groupby('action').count().repo"
   ]
  },
  {
   "cell_type": "markdown",
   "metadata": {},
   "source": [
    "The previous commands returned to each of our new variables a Series object. Since we want to have the count of commits, issues and pull requests in a single dataframe, we are going to use the `concat` pandas method. More information on it can be found in this <a href = \"https://pandas.pydata.org/pandas-docs/stable/reference/api/pandas.concat.html\">link</a>"
   ]
  },
  {
   "cell_type": "code",
   "execution_count": 309,
   "metadata": {},
   "outputs": [
    {
     "data": {
      "text/html": [
       "<div>\n",
       "<style scoped>\n",
       "    .dataframe tbody tr th:only-of-type {\n",
       "        vertical-align: middle;\n",
       "    }\n",
       "\n",
       "    .dataframe tbody tr th {\n",
       "        vertical-align: top;\n",
       "    }\n",
       "\n",
       "    .dataframe thead th {\n",
       "        text-align: right;\n",
       "    }\n",
       "</style>\n",
       "<table border=\"1\" class=\"dataframe\">\n",
       "  <thead>\n",
       "    <tr style=\"text-align: right;\">\n",
       "      <th></th>\n",
       "      <th>repo</th>\n",
       "      <th>repo</th>\n",
       "      <th>repo</th>\n",
       "    </tr>\n",
       "    <tr>\n",
       "      <th>action</th>\n",
       "      <th></th>\n",
       "      <th></th>\n",
       "      <th></th>\n",
       "    </tr>\n",
       "  </thead>\n",
       "  <tbody>\n",
       "    <tr>\n",
       "      <th>commit</th>\n",
       "      <td>286</td>\n",
       "      <td>103</td>\n",
       "      <td>33</td>\n",
       "    </tr>\n",
       "    <tr>\n",
       "      <th>issue</th>\n",
       "      <td>76</td>\n",
       "      <td>3</td>\n",
       "      <td>22</td>\n",
       "    </tr>\n",
       "    <tr>\n",
       "      <th>pull_request</th>\n",
       "      <td>83</td>\n",
       "      <td>2</td>\n",
       "      <td>6</td>\n",
       "    </tr>\n",
       "  </tbody>\n",
       "</table>\n",
       "</div>"
      ],
      "text/plain": [
       "              repo  repo  repo\n",
       "action                        \n",
       "commit         286   103    33\n",
       "issue           76     3    22\n",
       "pull_request    83     2     6"
      ]
     },
     "execution_count": 309,
     "metadata": {},
     "output_type": "execute_result"
    }
   ],
   "source": [
    "res = pd.concat([blockly_grouped,copybara_grouped, dopamine_grouped], axis = 1)\n",
    "res"
   ]
  },
  {
   "cell_type": "markdown",
   "metadata": {},
   "source": [
    "When we did the concatenation, every single column was named `repo` because we just pulled this same column with the `groupby` method, so we are going to change the names of the columns so they can be more clear to us"
   ]
  },
  {
   "cell_type": "code",
   "execution_count": 310,
   "metadata": {},
   "outputs": [],
   "source": [
    "res.columns = ['Blockly', 'Copybara', 'Dopamine']"
   ]
  },
  {
   "cell_type": "code",
   "execution_count": 311,
   "metadata": {
    "scrolled": true
   },
   "outputs": [
    {
     "data": {
      "text/html": [
       "<div>\n",
       "<style scoped>\n",
       "    .dataframe tbody tr th:only-of-type {\n",
       "        vertical-align: middle;\n",
       "    }\n",
       "\n",
       "    .dataframe tbody tr th {\n",
       "        vertical-align: top;\n",
       "    }\n",
       "\n",
       "    .dataframe thead th {\n",
       "        text-align: right;\n",
       "    }\n",
       "</style>\n",
       "<table border=\"1\" class=\"dataframe\">\n",
       "  <thead>\n",
       "    <tr style=\"text-align: right;\">\n",
       "      <th></th>\n",
       "      <th>Blockly</th>\n",
       "      <th>Copybara</th>\n",
       "      <th>Dopamine</th>\n",
       "    </tr>\n",
       "    <tr>\n",
       "      <th>action</th>\n",
       "      <th></th>\n",
       "      <th></th>\n",
       "      <th></th>\n",
       "    </tr>\n",
       "  </thead>\n",
       "  <tbody>\n",
       "    <tr>\n",
       "      <th>commit</th>\n",
       "      <td>286</td>\n",
       "      <td>103</td>\n",
       "      <td>33</td>\n",
       "    </tr>\n",
       "    <tr>\n",
       "      <th>issue</th>\n",
       "      <td>76</td>\n",
       "      <td>3</td>\n",
       "      <td>22</td>\n",
       "    </tr>\n",
       "    <tr>\n",
       "      <th>pull_request</th>\n",
       "      <td>83</td>\n",
       "      <td>2</td>\n",
       "      <td>6</td>\n",
       "    </tr>\n",
       "  </tbody>\n",
       "</table>\n",
       "</div>"
      ],
      "text/plain": [
       "              Blockly  Copybara  Dopamine\n",
       "action                                   \n",
       "commit            286       103        33\n",
       "issue              76         3        22\n",
       "pull_request       83         2         6"
      ]
     },
     "execution_count": 311,
     "metadata": {},
     "output_type": "execute_result"
    }
   ],
   "source": [
    "res"
   ]
  },
  {
   "cell_type": "markdown",
   "metadata": {},
   "source": [
    "In Pandas it is so much easier to handle aggregate functions by columns than by rows. Since we will be analyzing by total commits, issues and pull requests per repository, we are going to transpose our dataframe, so now our columns will be our rows and the rows will be columns. Let's see what happens when we transpose the dataframe"
   ]
  },
  {
   "cell_type": "code",
   "execution_count": 314,
   "metadata": {
    "scrolled": true
   },
   "outputs": [
    {
     "data": {
      "text/html": [
       "<div>\n",
       "<style scoped>\n",
       "    .dataframe tbody tr th:only-of-type {\n",
       "        vertical-align: middle;\n",
       "    }\n",
       "\n",
       "    .dataframe tbody tr th {\n",
       "        vertical-align: top;\n",
       "    }\n",
       "\n",
       "    .dataframe thead th {\n",
       "        text-align: right;\n",
       "    }\n",
       "</style>\n",
       "<table border=\"1\" class=\"dataframe\">\n",
       "  <thead>\n",
       "    <tr style=\"text-align: right;\">\n",
       "      <th>action</th>\n",
       "      <th>commit</th>\n",
       "      <th>issue</th>\n",
       "      <th>pull_request</th>\n",
       "    </tr>\n",
       "  </thead>\n",
       "  <tbody>\n",
       "    <tr>\n",
       "      <th>Blockly</th>\n",
       "      <td>286</td>\n",
       "      <td>76</td>\n",
       "      <td>83</td>\n",
       "    </tr>\n",
       "    <tr>\n",
       "      <th>Copybara</th>\n",
       "      <td>103</td>\n",
       "      <td>3</td>\n",
       "      <td>2</td>\n",
       "    </tr>\n",
       "    <tr>\n",
       "      <th>Dopamine</th>\n",
       "      <td>33</td>\n",
       "      <td>22</td>\n",
       "      <td>6</td>\n",
       "    </tr>\n",
       "  </tbody>\n",
       "</table>\n",
       "</div>"
      ],
      "text/plain": [
       "action    commit  issue  pull_request\n",
       "Blockly      286     76            83\n",
       "Copybara     103      3             2\n",
       "Dopamine      33     22             6"
      ]
     },
     "execution_count": 314,
     "metadata": {},
     "output_type": "execute_result"
    }
   ],
   "source": [
    "res = res.T\n",
    "res"
   ]
  },
  {
   "cell_type": "markdown",
   "metadata": {},
   "source": [
    "With our dataframe organized in this way, it is so much easier to add a column for the total number of actions in each repository, that will be represented by the sum of the commit, issue and pull request columns. We will call this column `total`. In order to have a more clear dataframe we will also add the `repo`index name for the dataframe and finally we will sort the dataframe by the `total` column in descending order"
   ]
  },
  {
   "cell_type": "code",
   "execution_count": 291,
   "metadata": {},
   "outputs": [
    {
     "data": {
      "text/html": [
       "<div>\n",
       "<style scoped>\n",
       "    .dataframe tbody tr th:only-of-type {\n",
       "        vertical-align: middle;\n",
       "    }\n",
       "\n",
       "    .dataframe tbody tr th {\n",
       "        vertical-align: top;\n",
       "    }\n",
       "\n",
       "    .dataframe thead th {\n",
       "        text-align: right;\n",
       "    }\n",
       "</style>\n",
       "<table border=\"1\" class=\"dataframe\">\n",
       "  <thead>\n",
       "    <tr style=\"text-align: right;\">\n",
       "      <th>action</th>\n",
       "      <th>commit</th>\n",
       "      <th>issue</th>\n",
       "      <th>pull_request</th>\n",
       "      <th>total</th>\n",
       "    </tr>\n",
       "    <tr>\n",
       "      <th>repo</th>\n",
       "      <th></th>\n",
       "      <th></th>\n",
       "      <th></th>\n",
       "      <th></th>\n",
       "    </tr>\n",
       "  </thead>\n",
       "  <tbody>\n",
       "    <tr>\n",
       "      <th>Blockly</th>\n",
       "      <td>286</td>\n",
       "      <td>76</td>\n",
       "      <td>83</td>\n",
       "      <td>445</td>\n",
       "    </tr>\n",
       "    <tr>\n",
       "      <th>Copybara</th>\n",
       "      <td>103</td>\n",
       "      <td>3</td>\n",
       "      <td>2</td>\n",
       "      <td>108</td>\n",
       "    </tr>\n",
       "    <tr>\n",
       "      <th>Dopamine</th>\n",
       "      <td>33</td>\n",
       "      <td>22</td>\n",
       "      <td>6</td>\n",
       "      <td>61</td>\n",
       "    </tr>\n",
       "  </tbody>\n",
       "</table>\n",
       "</div>"
      ],
      "text/plain": [
       "action    commit  issue  pull_request  total\n",
       "repo                                        \n",
       "Blockly      286     76            83    445\n",
       "Copybara     103      3             2    108\n",
       "Dopamine      33     22             6     61"
      ]
     },
     "execution_count": 291,
     "metadata": {},
     "output_type": "execute_result"
    }
   ],
   "source": [
    "res['total'] = res['commit'] + res['issue'] + res['pull_request']\n",
    "res.index.names = ['repo']\n",
    "res.sort_values(by = ['total'], ascending = False)"
   ]
  },
  {
   "cell_type": "markdown",
   "metadata": {},
   "source": [
    "So we see that the repo with the highest number of operations (commits, issues, pull requests) is the Blockly one, followed by the Copybara and the Dopamine ones. We will pass this dataframe to a csv file called 'total_operations', this will be stored in the same directory where this notebook is"
   ]
  },
  {
   "cell_type": "code",
   "execution_count": 315,
   "metadata": {},
   "outputs": [],
   "source": [
    "res.to_csv('total_operations.csv')"
   ]
  },
  {
   "cell_type": "markdown",
   "metadata": {},
   "source": [
    "## Plotting"
   ]
  },
  {
   "cell_type": "markdown",
   "metadata": {},
   "source": [
    "In order to do a clear plotting of the dataframe, we will need to <a href = \"https://pandas.pydata.org/pandas-docs/stable/reference/api/pandas.DataFrame.reset_index.html\">reset</a> our dataframe index and transpose it one more time. In order to avoid affecting the original dataframe, we will create a copy of it in our `res_copy` variable"
   ]
  },
  {
   "cell_type": "code",
   "execution_count": 316,
   "metadata": {},
   "outputs": [],
   "source": [
    "res_copy = res.T\n",
    "test = test.reset_index()"
   ]
  },
  {
   "cell_type": "code",
   "execution_count": 317,
   "metadata": {},
   "outputs": [
    {
     "data": {
      "text/plain": [
       "<matplotlib.axes._subplots.AxesSubplot at 0x1a23385eb8>"
      ]
     },
     "execution_count": 317,
     "metadata": {},
     "output_type": "execute_result"
    },
    {
     "data": {
      "image/png": "[encoded data removed]",
      "text/plain": [
       "<Figure size 432x288 with 1 Axes>"
      ]
     },
     "metadata": {},
     "output_type": "display_data"
    }
   ],
   "source": [
    "test.plot(x = 'action', y = ['Blockly', 'Copybara', 'Dopamine'], kind = 'bar')"
   ]
  }
 ],
 "metadata": {
  "kernelspec": {
   "display_name": "Python 3",
   "language": "python",
   "name": "python3"
  },
  "language_info": {
   "codemirror_mode": {
    "name": "ipython",
    "version": 3
   },
   "file_extension": ".py",
   "mimetype": "text/x-python",
   "name": "python",
   "nbconvert_exporter": "python",
   "pygments_lexer": "ipython3",
   "version": "3.7.1"
  }
 },
 "nbformat": 4,
 "nbformat_minor": 2
}
