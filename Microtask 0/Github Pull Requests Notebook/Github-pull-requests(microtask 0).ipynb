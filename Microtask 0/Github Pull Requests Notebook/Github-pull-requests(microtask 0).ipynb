{
 "cells": [
  {
   "cell_type": "markdown",
   "metadata": {},
   "source": [
    "# Kibiter Github-Pull-Requests"
   ]
  },
  {
   "cell_type": "markdown",
   "metadata": {},
   "source": [
    "In this notebook we'll be retrieving pull requests info from the kibiter repo which is located at this link:\n",
    "https://github.com/chaoss/grimoirelab-kibiter\n",
    "\n",
    "<h4>Sections</h4>\n",
    "\n",
    "<ul>\n",
    "    <li>Retrieving data from the data source</li>\n",
    "    <li>Date of retrieval</li>\n",
    "    <li>Class for computing Code_Pull_Requests-Github (based on sarvesh211999 Code_Issues class, more info in the section)</li>\n",
    "    <li>Total Pull Requests to the Kibiter repo</li>\n",
    "    <li>Checking data consistency</li>\n",
    "    <ul>\n",
    "        <li>Verifying that the only category is \"pull_request\"</li>\n",
    "    </ul>\n",
    "    <li>Counting and displaying distinct users who made pull requests to Kibiter repository</li>\n",
    "    <li>Counting merged and non-merged pull requests</li>\n",
    "    <li>Displaying users with non-merged pull requests</li>\n",
    "</ul>\n"
   ]
  },
  {
   "cell_type": "markdown",
   "metadata": {},
   "source": [
    "## Retrieving data from the data source\n",
    "\n",
    "<p>-You should replace the XXXX after the -t with a valid Github API token</p>\n",
    "<p>-Data will be written in the kibiter-pull-requests.json file</p>\n",
    "\n",
    "````\n",
    "iMac-de-Jose:Github Notebook josemasa$ perceval github --json-line --category pull_request grimoirelab kibiter --sleep-for-rate -t XXXX > kibiter-pull-requests.json \n",
    "[2019-04-03 22:40:54,606] - Sir Perceval is on his quest.\n",
    "[2019-04-03 22:40:56,967] - Getting info for https://api.github.com/users/dpose\n",
    "[2019-04-03 22:40:57,516] - Getting info for https://api.github.com/users/sduenas\n",
    "[2019-04-03 22:40:57,712] - Getting info for https://api.github.com/users/acs\n",
    "[2019-04-03 22:40:58,670] - Getting info for https://api.github.com/users/dmabtrg\n",
    "[2019-04-03 22:41:00,194] - Getting info for https://api.github.com/users/jsmanrique\n",
    "[2019-04-03 22:41:05,491] - Getting info for https://api.github.com/users/dlumbrer\n",
    "[2019-04-03 22:41:59,786] - Getting info for https://api.github.com/users/sanacl\n",
    "[2019-04-03 22:42:08,676] - Getting info for https://api.github.com/users/dicortazar\n",
    "[2019-04-03 22:42:10,857] - Getting info for https://api.github.com/users/valeriocos\n",
    "[2019-04-03 22:42:23,363] - Getting info for https://api.github.com/users/anajsana\n",
    "[2019-04-03 22:42:25,939] - Sir Perceval completed his quest.\n",
    "````\n"
   ]
  },
  {
   "cell_type": "markdown",
   "metadata": {},
   "source": [
    "## Date of retrieval\n",
    "\n",
    "<p> 3rd April, 2019 </p>"
   ]
  },
  {
   "cell_type": "markdown",
   "metadata": {},
   "source": [
    "## Class for computing Code_Pull_Requests-Github \n",
    "(Based on sarvesh211999 Code_Issues class) \n",
    "\n",
    "<p>Link to notebook with class: https://github.com/sarvesh211999/CHAOSS-Gsoc/blob/master/Microtask-0/github-pull-request.ipynb</p>\n"
   ]
  },
  {
   "cell_type": "code",
   "execution_count": 2,
   "metadata": {},
   "outputs": [],
   "source": [
    "##Importing necessary libraries for the class\n",
    "import json\n",
    "import datetime\n",
    "from dateutil import parser"
   ]
  },
  {
   "cell_type": "code",
   "execution_count": 3,
   "metadata": {},
   "outputs": [],
   "source": [
    "class Code_Pull_Requests:\n",
    "    \"\"\"Class for Code_Pull Requests for Git repositories.\n",
    "    \n",
    "    Objects are instantiated by specifying a file with the\n",
    "    commits obtained by Perceval from a set of repositories.\n",
    "        \n",
    "    :param path: Path to file with one Perceval JSON document per line\n",
    "    \"\"\"\n",
    "    \n",
    "    def __init__(self, path):\n",
    "        \n",
    "        self.pull_rs = []\n",
    "        with open(path) as commits_file:\n",
    "            for line in commits_file:\n",
    "                pull_r = json.loads(line)\n",
    "                self.pull_rs.append(pull_r)\n",
    "    \n",
    "    def total_pull_rs(self):\n",
    "        \"\"\"\n",
    "        Count Total Number of Pull Requests\n",
    "        \"\"\"\n",
    "        return len(self.pull_rs)\n",
    "    \n",
    "    def count(self, since = None, until = None):\n",
    "        \"\"\"\n",
    "        :param since: Period Start\n",
    "        :param until: Period End\n",
    "        \"\"\"\n",
    "        date = \"created_at\"\n",
    "        commits = self.pull_rs\n",
    "        count = 0\n",
    "        if not since and until:\n",
    "            until = parser.parse(until)  #convert string date time format into date time type, easy for comparission\n",
    "        if not until and since:\n",
    "            since = parser.parse(since)  #convert string date time format into date time type, easy for comparission\n",
    "        if until and since:\n",
    "            until = parser.parse(until)  #convert string date time format into date time type, easy for comparission\n",
    "            since = parser.parse(since)  #convert string date time format into date time type, easy for comparission\n",
    "        \n",
    "        for i in commits:\n",
    "            author_date = parser.parse(i['data'][date])\n",
    "            author_date = author_date.replace(tzinfo = None) #removing tzoffset from date-time object making compatible for comaprision\n",
    "            if since and until:\n",
    "                if(author_date >= since and author_date < until):\n",
    "                    count += 1 \n",
    "            if since and not until:\n",
    "                if(author_date >= since):\n",
    "                    count += 1 \n",
    "            if not since and until:\n",
    "                if(author_date >= since):\n",
    "                    count += 1\n",
    "            if not since and not until:\n",
    "                count = self.total_count()\n",
    "        \n",
    "        return count"
   ]
  },
  {
   "cell_type": "markdown",
   "metadata": {},
   "source": [
    "## Total Pull Requests to the Kibiter repo"
   ]
  },
  {
   "cell_type": "code",
   "execution_count": 5,
   "metadata": {},
   "outputs": [
    {
     "name": "stdout",
     "output_type": "stream",
     "text": [
      "NUMBER OF PULL REQUESTS FOR KIBITER'S GITHUB REPOSITORY = 96\n"
     ]
    }
   ],
   "source": [
    "#creating Code_Pull_Requests_Object\n",
    "kibiter_pull_rs = Code_Pull_Requests('kibiter-pull-requests.json')\n",
    "##variable storing total pull requests number\n",
    "total_prs = kibiter_pull_rs.total_pull_rs()\n",
    "print (\"NUMBER OF PULL REQUESTS FOR KIBITER'S GITHUB REPOSITORY = \" + str(total_prs))"
   ]
  },
  {
   "cell_type": "markdown",
   "metadata": {},
   "source": [
    "## Checking data consistency "
   ]
  },
  {
   "cell_type": "markdown",
   "metadata": {},
   "source": [
    "### Verifying that the only category is \"pull_request\""
   ]
  },
  {
   "cell_type": "code",
   "execution_count": 6,
   "metadata": {},
   "outputs": [
    {
     "name": "stdout",
     "output_type": "stream",
     "text": [
      "{'pull_request'}\n"
     ]
    }
   ],
   "source": [
    "#creating a set to keep only unique values\n",
    "categories = set()\n",
    "with open('kibiter-pull-requests.json') as pullrs_file:\n",
    "    for line in pullrs_file:\n",
    "        pull_r = json.loads(line)\n",
    "        categories.add(pull_r['category'])\n",
    "        \n",
    "#printing unique values      \n",
    "print (categories)"
   ]
  },
  {
   "cell_type": "markdown",
   "metadata": {},
   "source": [
    "## Counting and displaying distinct users who made pull requests to Kibiter repository"
   ]
  },
  {
   "cell_type": "code",
   "execution_count": 12,
   "metadata": {},
   "outputs": [
    {
     "name": "stdout",
     "output_type": "stream",
     "text": [
      "NAMES OF DIFFERENT PULL REQUESTERS TO THE KIBITER REPO \n",
      " \n",
      "\n",
      "Ana Jimenez Santamaria\n",
      "David Muriel\n",
      "David Pose Fernández\n",
      "Manrique Lopez\n",
      "David Moreno Lumbreras\n",
      "Luis Cañas-Díaz\n",
      "Alvaro del Castillo\n",
      "\n",
      "TOTAL DISTINCT PULL REQUESTERS TO THE REPO 7\n"
     ]
    }
   ],
   "source": [
    "#creating a set to keep only unique values\n",
    "distinct_contributors = set()\n",
    "\n",
    "##opening and traversing the pull requests file\n",
    "with open('kibiter-pull-requests.json') as pullrs_file:\n",
    "    for line in pullrs_file:\n",
    "        pull_r = json.loads(line)\n",
    "        distinct_contributors.add(pull_r['data']['user_data']['name'])\n",
    "        \n",
    "print ('NAMES OF DIFFERENT PULL REQUESTERS TO THE KIBITER REPO \\n \\n')\n",
    "\n",
    "for author in distinct_contributors:\n",
    "    print (author)\n",
    "    \n",
    "print (\"\\nTOTAL DISTINCT PULL REQUESTERS TO THE REPO \" + str(len(distinct_contributors)))"
   ]
  },
  {
   "cell_type": "markdown",
   "metadata": {},
   "source": [
    "## Counting merged and non-merged pull requests"
   ]
  },
  {
   "cell_type": "code",
   "execution_count": 13,
   "metadata": {},
   "outputs": [
    {
     "name": "stdout",
     "output_type": "stream",
     "text": [
      "Merged Pull Requests = 79\n",
      "Non Merged Pull Requests = 17\n"
     ]
    }
   ],
   "source": [
    "merged_prs = 0\n",
    "with open('kibiter-pull-requests.json') as pullrs_file:\n",
    "    for line in pullrs_file:\n",
    "        pull_r = json.loads(line)\n",
    "        if (pull_r['data']['merged'] == True):\n",
    "            merged_prs = merged_prs + 1\n",
    "        \n",
    "print (\"Merged Pull Requests = \" + str(merged_prs))\n",
    "print (\"Non Merged Pull Requests = \" + str(total_prs - merged_prs))"
   ]
  },
  {
   "cell_type": "markdown",
   "metadata": {},
   "source": [
    "## Displaying users with non-merged pull requests"
   ]
  },
  {
   "cell_type": "code",
   "execution_count": 14,
   "metadata": {},
   "outputs": [
    {
     "name": "stdout",
     "output_type": "stream",
     "text": [
      "DISTINCT USERS WITH NON-MERGED PULL REQUESTS \n",
      "\n",
      "\n",
      "David Pose Fernández\n",
      "Manrique Lopez\n",
      "Luis Cañas-Díaz\n",
      "David Moreno Lumbreras\n"
     ]
    }
   ],
   "source": [
    "non_mrgd_users = set()\n",
    "with open('kibiter-pull-requests.json') as pullrs_file:\n",
    "    for line in pullrs_file:\n",
    "        pull_r = json.loads(line)\n",
    "        if (pull_r['data']['merged'] == False):\n",
    "            non_mrgd_users.add(pull_r['data']['user_data']['name'])\n",
    "            \n",
    "print(\"DISTINCT USERS WITH NON-MERGED PULL REQUESTS \\n\\n\")\n",
    "for user in non_mrgd_users:\n",
    "    print (user)"
   ]
  }
 ],
 "metadata": {
  "kernelspec": {
   "display_name": "Python 3",
   "language": "python",
   "name": "python3"
  },
  "language_info": {
   "codemirror_mode": {
    "name": "ipython",
    "version": 3
   },
   "file_extension": ".py",
   "mimetype": "text/x-python",
   "name": "python",
   "nbconvert_exporter": "python",
   "pygments_lexer": "ipython3",
   "version": "3.7.1"
  }
 },
 "nbformat": 4,
 "nbformat_minor": 2
}
