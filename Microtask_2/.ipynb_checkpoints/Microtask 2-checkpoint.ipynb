{
 "cells": [
  {
   "cell_type": "markdown",
   "metadata": {},
   "source": [
    "# Microtask 2  (Implementing CHAOSS metrics with Perceval idea)\n",
    "\n",
    "By: José Alberto Marcial Sánchez"
   ]
  },
  {
   "cell_type": "markdown",
   "metadata": {},
   "source": [
    "## Table of contents\n",
    "<ol>\n",
    "    <li><a href=#objective>Objective</a></li>\n",
    "    <li><a href=#retrieving>Retrieving the data</a></li>\n",
    "    <li><a href=#dividing>Dividing the data into different dataframes depending on it's repository</a></li>\n",
    "    <li><a href=#filtering>Filtering the data(getting just info from the last 3 months</a></li>\n",
    "    <li><a href=#plotting>Plotting</a></li>\n",
    "\n",
    " <ol>"
   ]
  },
  {
   "cell_type": "markdown",
   "metadata": {},
   "source": [
    "<h2><a id=\"objective\" style=\"color:black;\">Objective</a></h2>\n",
    "<br>\n",
    "Produce a notebook showing (and producing) a list with the activity per quarter: number of new committers, submitters of issues, and submitters of pull/merge requests, number of items (commits, issues, pull/merge requests), number of repositories with new items (all of this per quarter) as a table and as a CSV file. Pandas can be used for this"
   ]
  },
  {
   "cell_type": "code",
   "execution_count": 248,
   "metadata": {},
   "outputs": [],
   "source": [
    "##to avoid seeing warnings in the notebook\n",
    "import warnings\n",
    "warnings.filterwarnings('ignore')\n",
    "\n",
    "## Importing the necessary libraries for the analysis and data manipulation\n",
    "import json\n",
    "import datetime\n",
    "from datetime import datetime, timedelta, date\n",
    "from dateutil import parser\n",
    "import pandas as pd\n",
    "import pytz\n",
    "\n",
    "\n",
    "##plotting libraries\n",
    "import seaborn as sns\n",
    "import numpy as np\n",
    "import matplotlib.pyplot as plt\n",
    "from scipy import stats"
   ]
  },
  {
   "cell_type": "markdown",
   "metadata": {},
   "source": [
    "<h2><a id = \"defining\" style = \"color:black;\">Defining functions to retrieve important info from issues, pull requests and commits</a></h2>"
   ]
  },
  {
   "cell_type": "code",
   "execution_count": 249,
   "metadata": {},
   "outputs": [],
   "source": [
    "## Function based on the _summary function from the Code_changes class in the microstask 0 example\n",
    "\n",
    "def summarizeIssuePullRequest(issue):\n",
    "    '''\n",
    "    This is a function for summarizing issue's relevant information \n",
    "    \n",
    "    Parameters:\n",
    "    issue(dict) : json's file line describing an issue\n",
    "    \n",
    "    Returns:\n",
    "    dict: A non-nested dictionary which can be easily appended as a row of a dataframe\n",
    "    '''\n",
    "    cdata = issue['data']\n",
    "    \n",
    "    ##Adding just the relevant fields from the complete issue/pull\n",
    "    summary = {\n",
    "            'action': 'issue' if 'pull_request' not in cdata else 'pull_request',\n",
    "            'repo': issue['origin'],\n",
    "            'created_date': datetime.strptime(cdata['created_at'], \"%Y-%m-%dT%H:%M:%SZ\").date(),\n",
    "            'author' : cdata['user']['login']\n",
    "    }\n",
    "    return summary"
   ]
  },
  {
   "cell_type": "code",
   "execution_count": 250,
   "metadata": {},
   "outputs": [],
   "source": [
    "def summarizeCommit(commit):\n",
    "    '''\n",
    "    This is a function for summarizing commit's relevant information \n",
    "    \n",
    "    Parameters:\n",
    "    commit(dict) : json's file line describing a commit\n",
    "    \n",
    "    Returns:\n",
    "    dict: A non-nested dictionary which can be easily appended as a row of a dataframe\n",
    "    '''\n",
    "    cdata = commit['data']\n",
    "    \n",
    "    ##Adding just the relevant fields from the commit\n",
    "    summary = {\n",
    "            'action': 'commit',\n",
    "            'repo': commit['origin'],\n",
    "            ##converting the date from a string to date format\n",
    "            'created_date': datetime.strptime(cdata['CommitDate'],\"%a %b %d %H:%M:%S %Y %z\").date(),\n",
    "            'author' : cdata['Author']\n",
    "    }\n",
    "\n",
    "    return summary"
   ]
  },
  {
   "cell_type": "markdown",
   "metadata": {},
   "source": [
    "<h2><a id = \"code_changes\" style = \"color:black\">The Code_Changes Class</a></h2>"
   ]
  },
  {
   "cell_type": "code",
   "execution_count": 251,
   "metadata": {},
   "outputs": [],
   "source": [
    "##This class was taken from the Code_changes-Git notebook in the wf-gmd CHAOSS repository\n",
    "class Code_Changes:\n",
    "    \"\"\"\"Class for Code_Changes for Git repositories.\n",
    "    \n",
    "    Objects are instantiated by specifying a file with the\n",
    "    commits obtained by Perceval from a set of repositories.\n",
    "    \n",
    "    Contains individual list for Issues, Pull Requests and Commits\n",
    "        \n",
    "    :param path: Path to file with one Perceval JSON document per line\n",
    "    \"\"\"\n",
    "    \n",
    "    def __init__(self, path):\n",
    "        \n",
    "        self.changes = {'issue':[],'commit':[],'pull_request':[]}\n",
    "        with open(path) as data_file:\n",
    "            for data in data_file:\n",
    "                line = json.loads(data)\n",
    "                line_info = line['data']\n",
    "                if(line['category'] ==  'commit'):\n",
    "                    self.changes['commit'].append(summarizeCommit(line))\n",
    "                else:\n",
    "                    if ('pull_request' in line_info):\n",
    "                        self.changes['pull_request'].append(summarizeIssuePullRequest(line))\n",
    "                    else:\n",
    "                        self.changes['issue'].append(summarizeIssuePullRequest(line))\n",
    "        self.code_dataframe = {\n",
    "            'commit':pd.DataFrame.from_dict(self.changes['commit']),\n",
    "            'pull_request':pd.DataFrame.from_dict(self.changes['pull_request']),\n",
    "            'issue':pd.DataFrame.from_dict(self.changes['issue'])\n",
    "        }\n",
    "        \n",
    "        for frame in self.code_dataframe:\n",
    "            self.code_dataframe[frame]['created_date'] = pd.to_datetime(self.code_dataframe[frame]['created_date'])\n",
    "        \n",
    "    def count(self, since = None, until = None):\n",
    "        \"\"\"Count number of items in a given range of dates\n",
    "        \n",
    "        :param since: Period start\n",
    "        :param until: Period end\n",
    "        \"\"\"\n",
    "        totals = {\"commit\":0,\"issue\":0,\"pull_request\":0}\n",
    "        by_type = self.code_dataframe\n",
    "        for key in by_type:\n",
    "            df = by_type[key]\n",
    "            df = df[(df['created_date'] >= since) & (df['created_date'] <= until)]\n",
    "            totals[key] = len(df.index)\n",
    "            \n",
    "        return totals"
   ]
  },
  {
   "cell_type": "markdown",
   "metadata": {},
   "source": [
    "<h2><a id = \"split_by_quarters\" style = \"color:black\">The splitByQuarters function</a></h2>"
   ]
  },
  {
   "cell_type": "code",
   "execution_count": 252,
   "metadata": {},
   "outputs": [],
   "source": [
    "def splitByQuarters(first_year,last_year):\n",
    "    num_quarters = (last_year - first_year + 1) * 4\n",
    "    num_quarters\n",
    "    quarters = {'first':\n",
    "                {\n",
    "                    \"bday\":1,\"bmonth\":1,\"eday\":31,\"emonth\":3\n",
    "                },\n",
    "                \"second\":\n",
    "                {\n",
    "                    \"bday\":1,\"bmonth\":4,\"eday\":30,\"emonth\":6},\n",
    "                \"third\":\n",
    "                {\n",
    "                    \"bday\":1,\"bmonth\":7,\"eday\":30,\"emonth\":9},\n",
    "                \"fourth\":\n",
    "                {\n",
    "                    \"bday\":1,\"bmonth\":10,\"eday\":31,\"emonth\":12}\n",
    "               }\n",
    "    results = {\n",
    "        \"quarter\":[],\n",
    "        \"date_range\":[]\n",
    "    }\n",
    "    for year in range(first_year,last_year + 1):\n",
    "        for quarter in quarters:\n",
    "            dayb = (quarters[quarter]['bday'])\n",
    "            monthb = (quarters[quarter]['bmonth'])\n",
    "            daye = (quarters[quarter]['eday'])\n",
    "            monthe = (quarters[quarter]['emonth'])\n",
    "            dateB = date(year, monthb,dayb)\n",
    "            dateF = date(year, monthe,daye)\n",
    "            results['quarter'].append(quarter)\n",
    "            results['date_range'].append((dateB,dateF))      \n",
    "    return results"
   ]
  },
  {
   "cell_type": "markdown",
   "metadata": {},
   "source": [
    "<h2><a id = \"usage_example\" style = \"color:black\">Usage example</a></h2>"
   ]
  },
  {
   "cell_type": "code",
   "execution_count": 253,
   "metadata": {},
   "outputs": [],
   "source": [
    "#Creating a Code_Changes object with data from the info.json file\n",
    "data = Code_Changes('../Microtask_5/info.json')"
   ]
  },
  {
   "cell_type": "markdown",
   "metadata": {},
   "source": [
    "In the `splitted_data` variable we will be storing the dates corresponding to each quarter in the range of dates passed to the function. In this case we want to analyze activity in quarters from 2015 till 2017"
   ]
  },
  {
   "cell_type": "code",
   "execution_count": 260,
   "metadata": {
    "scrolled": true
   },
   "outputs": [
    {
     "data": {
      "text/plain": [
       "{'quarter': ['first',\n",
       "  'second',\n",
       "  'third',\n",
       "  'fourth',\n",
       "  'first',\n",
       "  'second',\n",
       "  'third',\n",
       "  'fourth',\n",
       "  'first',\n",
       "  'second',\n",
       "  'third',\n",
       "  'fourth'],\n",
       " 'date_range': [(datetime.date(2015, 1, 1), datetime.date(2015, 3, 31)),\n",
       "  (datetime.date(2015, 4, 1), datetime.date(2015, 6, 30)),\n",
       "  (datetime.date(2015, 7, 1), datetime.date(2015, 9, 30)),\n",
       "  (datetime.date(2015, 10, 1), datetime.date(2015, 12, 31)),\n",
       "  (datetime.date(2016, 1, 1), datetime.date(2016, 3, 31)),\n",
       "  (datetime.date(2016, 4, 1), datetime.date(2016, 6, 30)),\n",
       "  (datetime.date(2016, 7, 1), datetime.date(2016, 9, 30)),\n",
       "  (datetime.date(2016, 10, 1), datetime.date(2016, 12, 31)),\n",
       "  (datetime.date(2017, 1, 1), datetime.date(2017, 3, 31)),\n",
       "  (datetime.date(2017, 4, 1), datetime.date(2017, 6, 30)),\n",
       "  (datetime.date(2017, 7, 1), datetime.date(2017, 9, 30)),\n",
       "  (datetime.date(2017, 10, 1), datetime.date(2017, 12, 31))]}"
      ]
     },
     "execution_count": 260,
     "metadata": {},
     "output_type": "execute_result"
    }
   ],
   "source": [
    "splitted_data = splitByQuarters(2015,2017)\n",
    "splitted_data"
   ]
  },
  {
   "cell_type": "markdown",
   "metadata": {},
   "source": [
    "Once that we have our dates in a dictionary, we can start counting the number of items in our `data` object. Remeber, this object stores 1 dataframe per category, which are pull_request, issue and commit. So we will assign a variable for each of those categories, so we can be able to count how many of them exists per quarter"
   ]
  },
  {
   "cell_type": "code",
   "execution_count": 261,
   "metadata": {
    "scrolled": true
   },
   "outputs": [
    {
     "data": {
      "text/html": [
       "<div>\n",
       "<style scoped>\n",
       "    .dataframe tbody tr th:only-of-type {\n",
       "        vertical-align: middle;\n",
       "    }\n",
       "\n",
       "    .dataframe tbody tr th {\n",
       "        vertical-align: top;\n",
       "    }\n",
       "\n",
       "    .dataframe thead th {\n",
       "        text-align: right;\n",
       "    }\n",
       "</style>\n",
       "<table border=\"1\" class=\"dataframe\">\n",
       "  <thead>\n",
       "    <tr style=\"text-align: right;\">\n",
       "      <th></th>\n",
       "      <th>quarter</th>\n",
       "      <th>date_range</th>\n",
       "      <th>#pull_requests</th>\n",
       "      <th>#commits</th>\n",
       "      <th>#issues</th>\n",
       "      <th>#total_items</th>\n",
       "    </tr>\n",
       "  </thead>\n",
       "  <tbody>\n",
       "    <tr>\n",
       "      <th>0</th>\n",
       "      <td>first</td>\n",
       "      <td>(2015-01-01, 2015-03-31)</td>\n",
       "      <td>28</td>\n",
       "      <td>113</td>\n",
       "      <td>24</td>\n",
       "      <td>165</td>\n",
       "    </tr>\n",
       "    <tr>\n",
       "      <th>1</th>\n",
       "      <td>second</td>\n",
       "      <td>(2015-04-01, 2015-06-30)</td>\n",
       "      <td>16</td>\n",
       "      <td>91</td>\n",
       "      <td>13</td>\n",
       "      <td>120</td>\n",
       "    </tr>\n",
       "    <tr>\n",
       "      <th>2</th>\n",
       "      <td>third</td>\n",
       "      <td>(2015-07-01, 2015-09-30)</td>\n",
       "      <td>31</td>\n",
       "      <td>147</td>\n",
       "      <td>34</td>\n",
       "      <td>212</td>\n",
       "    </tr>\n",
       "    <tr>\n",
       "      <th>3</th>\n",
       "      <td>fourth</td>\n",
       "      <td>(2015-10-01, 2015-12-31)</td>\n",
       "      <td>17</td>\n",
       "      <td>91</td>\n",
       "      <td>24</td>\n",
       "      <td>132</td>\n",
       "    </tr>\n",
       "    <tr>\n",
       "      <th>4</th>\n",
       "      <td>first</td>\n",
       "      <td>(2016-01-01, 2016-03-31)</td>\n",
       "      <td>47</td>\n",
       "      <td>202</td>\n",
       "      <td>33</td>\n",
       "      <td>282</td>\n",
       "    </tr>\n",
       "    <tr>\n",
       "      <th>5</th>\n",
       "      <td>second</td>\n",
       "      <td>(2016-04-01, 2016-06-30)</td>\n",
       "      <td>82</td>\n",
       "      <td>555</td>\n",
       "      <td>75</td>\n",
       "      <td>712</td>\n",
       "    </tr>\n",
       "    <tr>\n",
       "      <th>6</th>\n",
       "      <td>third</td>\n",
       "      <td>(2016-07-01, 2016-09-30)</td>\n",
       "      <td>128</td>\n",
       "      <td>594</td>\n",
       "      <td>72</td>\n",
       "      <td>794</td>\n",
       "    </tr>\n",
       "    <tr>\n",
       "      <th>7</th>\n",
       "      <td>fourth</td>\n",
       "      <td>(2016-10-01, 2016-12-31)</td>\n",
       "      <td>76</td>\n",
       "      <td>387</td>\n",
       "      <td>63</td>\n",
       "      <td>526</td>\n",
       "    </tr>\n",
       "    <tr>\n",
       "      <th>8</th>\n",
       "      <td>first</td>\n",
       "      <td>(2017-01-01, 2017-03-31)</td>\n",
       "      <td>120</td>\n",
       "      <td>308</td>\n",
       "      <td>99</td>\n",
       "      <td>527</td>\n",
       "    </tr>\n",
       "    <tr>\n",
       "      <th>9</th>\n",
       "      <td>second</td>\n",
       "      <td>(2017-04-01, 2017-06-30)</td>\n",
       "      <td>132</td>\n",
       "      <td>261</td>\n",
       "      <td>72</td>\n",
       "      <td>465</td>\n",
       "    </tr>\n",
       "    <tr>\n",
       "      <th>10</th>\n",
       "      <td>third</td>\n",
       "      <td>(2017-07-01, 2017-09-30)</td>\n",
       "      <td>76</td>\n",
       "      <td>197</td>\n",
       "      <td>80</td>\n",
       "      <td>353</td>\n",
       "    </tr>\n",
       "    <tr>\n",
       "      <th>11</th>\n",
       "      <td>fourth</td>\n",
       "      <td>(2017-10-01, 2017-12-31)</td>\n",
       "      <td>90</td>\n",
       "      <td>367</td>\n",
       "      <td>90</td>\n",
       "      <td>547</td>\n",
       "    </tr>\n",
       "  </tbody>\n",
       "</table>\n",
       "</div>"
      ],
      "text/plain": [
       "   quarter                date_range  #pull_requests  #commits  #issues  \\\n",
       "0    first  (2015-01-01, 2015-03-31)              28       113       24   \n",
       "1   second  (2015-04-01, 2015-06-30)              16        91       13   \n",
       "2    third  (2015-07-01, 2015-09-30)              31       147       34   \n",
       "3   fourth  (2015-10-01, 2015-12-31)              17        91       24   \n",
       "4    first  (2016-01-01, 2016-03-31)              47       202       33   \n",
       "5   second  (2016-04-01, 2016-06-30)              82       555       75   \n",
       "6    third  (2016-07-01, 2016-09-30)             128       594       72   \n",
       "7   fourth  (2016-10-01, 2016-12-31)              76       387       63   \n",
       "8    first  (2017-01-01, 2017-03-31)             120       308       99   \n",
       "9   second  (2017-04-01, 2017-06-30)             132       261       72   \n",
       "10   third  (2017-07-01, 2017-09-30)              76       197       80   \n",
       "11  fourth  (2017-10-01, 2017-12-31)              90       367       90   \n",
       "\n",
       "    #total_items  \n",
       "0            165  \n",
       "1            120  \n",
       "2            212  \n",
       "3            132  \n",
       "4            282  \n",
       "5            712  \n",
       "6            794  \n",
       "7            526  \n",
       "8            527  \n",
       "9            465  \n",
       "10           353  \n",
       "11           547  "
      ]
     },
     "execution_count": 261,
     "metadata": {},
     "output_type": "execute_result"
    }
   ],
   "source": [
    "#creating variables referring to the different dataframes created by our 'data' Code_Changes object\n",
    "pull_requests = data.code_dataframe['pull_request']\n",
    "commits = data.code_dataframe['commit']\n",
    "issues = data.code_dataframe['issue']\n",
    "\n",
    "#adding fields to our original dictionary of quarters in which we will be storing the count for each category and the sum of them\n",
    "splitted_data['#pull_requests'] = []\n",
    "splitted_data['#commits'] = []\n",
    "splitted_data['#issues'] = []\n",
    "splitted_data['#total_items'] = []\n",
    "\n",
    "##traversing the date_range tuples from the splitted_data variable, each tuple represent a quarter's begin and end dates\n",
    "for dates in splitted_data['date_range']:\n",
    "    #number of pull requests that were created in the dates range of the current quarter \n",
    "    total_pull_requests = (len(pull_requests[(pull_requests['created_date'] >= dates[0]) & (pull_requests['created_date'] <= dates[1])].index))\n",
    "    #number of commits that were created in the dates range of the current quarter \n",
    "    total_commits = (len(commits[(commits['created_date'] >= dates[0]) & (commits['created_date'] <= dates[1])].index))\n",
    "    #number of issues that were created in the dates range of the current quarter \n",
    "    total_issues = (len(issues[(issues['created_date'] >= dates[0]) & (issues['created_date'] <= dates[1])].index))\n",
    "    #appending the previous counts to our splitted_data dictionary in it's respective field\n",
    "    splitted_data['#pull_requests'].append(total_pull_requests)\n",
    "    splitted_data['#commits'].append(total_commits)\n",
    "    splitted_data['#issues'].append(total_issues)\n",
    "    splitted_data['#total_items'].append(total_pull_requests + total_commits + total_issues)\n",
    "\n",
    "#creating a pandas dataframe from the dictionary we just created in the for loop\n",
    "splitted_data = pd.DataFrame.from_dict(testing)\n",
    "splitted_data"
   ]
  },
  {
   "cell_type": "markdown",
   "metadata": {},
   "source": [
    "As we can see,our dataframe was created succesfully, but the `date_range` column is not looking so good, so first we will divide this column in 2 new ones and then we will format those dates using the `strftime method` so we can be able to read them easier"
   ]
  },
  {
   "cell_type": "code",
   "execution_count": 262,
   "metadata": {
    "scrolled": true
   },
   "outputs": [
    {
     "data": {
      "text/plain": [
       "quarter           object\n",
       "#pull_requests     int64\n",
       "#commits           int64\n",
       "#issues            int64\n",
       "#total_items       int64\n",
       "Date_beginning    object\n",
       "Date_End          object\n",
       "dtype: object"
      ]
     },
     "execution_count": 262,
     "metadata": {},
     "output_type": "execute_result"
    }
   ],
   "source": [
    "##splitting column into two new ones Date_beginning and Date_End\n",
    "splitted_data[['Date_beginning', 'Date_End']] = pd.DataFrame(splitted_data['date_range'].tolist(), index=test_df.index)\n",
    "#dropping the date_range column since we won't use it anymore\n",
    "splitted_data.drop(columns = 'date_range', inplace = True)\n",
    "#verifying data types of the columns in our dataframe\n",
    "splitted_data.dtypes"
   ]
  },
  {
   "cell_type": "markdown",
   "metadata": {},
   "source": [
    "As you may see, our `Date_beginning` and `Date_End` columns are objects, so we will need to change their datatype to datetime before formmatting it. We will do this with the `to_datetime` pandas function"
   ]
  },
  {
   "cell_type": "code",
   "execution_count": 263,
   "metadata": {
    "scrolled": true
   },
   "outputs": [
    {
     "data": {
      "text/plain": [
       "quarter                   object\n",
       "#pull_requests             int64\n",
       "#commits                   int64\n",
       "#issues                    int64\n",
       "#total_items               int64\n",
       "Date_beginning    datetime64[ns]\n",
       "Date_End          datetime64[ns]\n",
       "dtype: object"
      ]
     },
     "execution_count": 263,
     "metadata": {},
     "output_type": "execute_result"
    }
   ],
   "source": [
    "splitted_data['Date_beginning'] = pd.to_datetime(splitted_data['Date_beginning'])\n",
    "splitted_data['Date_End'] = pd.to_datetime(splitted_data['Date_End'])\n",
    "splitted_data.dtypes"
   ]
  },
  {
   "cell_type": "code",
   "execution_count": 264,
   "metadata": {
    "scrolled": true
   },
   "outputs": [],
   "source": [
    "#formatting the columns to have a more legible date\n",
    "splitted_data['Date_beginning'] = splitted_data['Date_beginning'].dt.strftime(\"%d %B, %Y\")\n",
    "splitted_data['Date_End'] = splitted_data['Date_End'].dt.strftime(\"%d %B, %Y\")"
   ]
  },
  {
   "cell_type": "code",
   "execution_count": 265,
   "metadata": {
    "scrolled": true
   },
   "outputs": [
    {
     "data": {
      "text/html": [
       "<div>\n",
       "<style scoped>\n",
       "    .dataframe tbody tr th:only-of-type {\n",
       "        vertical-align: middle;\n",
       "    }\n",
       "\n",
       "    .dataframe tbody tr th {\n",
       "        vertical-align: top;\n",
       "    }\n",
       "\n",
       "    .dataframe thead th {\n",
       "        text-align: right;\n",
       "    }\n",
       "</style>\n",
       "<table border=\"1\" class=\"dataframe\">\n",
       "  <thead>\n",
       "    <tr style=\"text-align: right;\">\n",
       "      <th></th>\n",
       "      <th>quarter</th>\n",
       "      <th>#pull_requests</th>\n",
       "      <th>#commits</th>\n",
       "      <th>#issues</th>\n",
       "      <th>#total_items</th>\n",
       "      <th>Date_beginning</th>\n",
       "      <th>Date_End</th>\n",
       "    </tr>\n",
       "  </thead>\n",
       "  <tbody>\n",
       "    <tr>\n",
       "      <th>0</th>\n",
       "      <td>first</td>\n",
       "      <td>28</td>\n",
       "      <td>113</td>\n",
       "      <td>24</td>\n",
       "      <td>165</td>\n",
       "      <td>01 January, 2015</td>\n",
       "      <td>31 March, 2015</td>\n",
       "    </tr>\n",
       "    <tr>\n",
       "      <th>1</th>\n",
       "      <td>second</td>\n",
       "      <td>16</td>\n",
       "      <td>91</td>\n",
       "      <td>13</td>\n",
       "      <td>120</td>\n",
       "      <td>01 April, 2015</td>\n",
       "      <td>30 June, 2015</td>\n",
       "    </tr>\n",
       "    <tr>\n",
       "      <th>2</th>\n",
       "      <td>third</td>\n",
       "      <td>31</td>\n",
       "      <td>147</td>\n",
       "      <td>34</td>\n",
       "      <td>212</td>\n",
       "      <td>01 July, 2015</td>\n",
       "      <td>30 September, 2015</td>\n",
       "    </tr>\n",
       "    <tr>\n",
       "      <th>3</th>\n",
       "      <td>fourth</td>\n",
       "      <td>17</td>\n",
       "      <td>91</td>\n",
       "      <td>24</td>\n",
       "      <td>132</td>\n",
       "      <td>01 October, 2015</td>\n",
       "      <td>31 December, 2015</td>\n",
       "    </tr>\n",
       "    <tr>\n",
       "      <th>4</th>\n",
       "      <td>first</td>\n",
       "      <td>47</td>\n",
       "      <td>202</td>\n",
       "      <td>33</td>\n",
       "      <td>282</td>\n",
       "      <td>01 January, 2016</td>\n",
       "      <td>31 March, 2016</td>\n",
       "    </tr>\n",
       "    <tr>\n",
       "      <th>5</th>\n",
       "      <td>second</td>\n",
       "      <td>82</td>\n",
       "      <td>555</td>\n",
       "      <td>75</td>\n",
       "      <td>712</td>\n",
       "      <td>01 April, 2016</td>\n",
       "      <td>30 June, 2016</td>\n",
       "    </tr>\n",
       "    <tr>\n",
       "      <th>6</th>\n",
       "      <td>third</td>\n",
       "      <td>128</td>\n",
       "      <td>594</td>\n",
       "      <td>72</td>\n",
       "      <td>794</td>\n",
       "      <td>01 July, 2016</td>\n",
       "      <td>30 September, 2016</td>\n",
       "    </tr>\n",
       "    <tr>\n",
       "      <th>7</th>\n",
       "      <td>fourth</td>\n",
       "      <td>76</td>\n",
       "      <td>387</td>\n",
       "      <td>63</td>\n",
       "      <td>526</td>\n",
       "      <td>01 October, 2016</td>\n",
       "      <td>31 December, 2016</td>\n",
       "    </tr>\n",
       "    <tr>\n",
       "      <th>8</th>\n",
       "      <td>first</td>\n",
       "      <td>120</td>\n",
       "      <td>308</td>\n",
       "      <td>99</td>\n",
       "      <td>527</td>\n",
       "      <td>01 January, 2017</td>\n",
       "      <td>31 March, 2017</td>\n",
       "    </tr>\n",
       "    <tr>\n",
       "      <th>9</th>\n",
       "      <td>second</td>\n",
       "      <td>132</td>\n",
       "      <td>261</td>\n",
       "      <td>72</td>\n",
       "      <td>465</td>\n",
       "      <td>01 April, 2017</td>\n",
       "      <td>30 June, 2017</td>\n",
       "    </tr>\n",
       "    <tr>\n",
       "      <th>10</th>\n",
       "      <td>third</td>\n",
       "      <td>76</td>\n",
       "      <td>197</td>\n",
       "      <td>80</td>\n",
       "      <td>353</td>\n",
       "      <td>01 July, 2017</td>\n",
       "      <td>30 September, 2017</td>\n",
       "    </tr>\n",
       "    <tr>\n",
       "      <th>11</th>\n",
       "      <td>fourth</td>\n",
       "      <td>90</td>\n",
       "      <td>367</td>\n",
       "      <td>90</td>\n",
       "      <td>547</td>\n",
       "      <td>01 October, 2017</td>\n",
       "      <td>31 December, 2017</td>\n",
       "    </tr>\n",
       "  </tbody>\n",
       "</table>\n",
       "</div>"
      ],
      "text/plain": [
       "   quarter  #pull_requests  #commits  #issues  #total_items    Date_beginning  \\\n",
       "0    first              28       113       24           165  01 January, 2015   \n",
       "1   second              16        91       13           120    01 April, 2015   \n",
       "2    third              31       147       34           212     01 July, 2015   \n",
       "3   fourth              17        91       24           132  01 October, 2015   \n",
       "4    first              47       202       33           282  01 January, 2016   \n",
       "5   second              82       555       75           712    01 April, 2016   \n",
       "6    third             128       594       72           794     01 July, 2016   \n",
       "7   fourth              76       387       63           526  01 October, 2016   \n",
       "8    first             120       308       99           527  01 January, 2017   \n",
       "9   second             132       261       72           465    01 April, 2017   \n",
       "10   third              76       197       80           353     01 July, 2017   \n",
       "11  fourth              90       367       90           547  01 October, 2017   \n",
       "\n",
       "              Date_End  \n",
       "0       31 March, 2015  \n",
       "1        30 June, 2015  \n",
       "2   30 September, 2015  \n",
       "3    31 December, 2015  \n",
       "4       31 March, 2016  \n",
       "5        30 June, 2016  \n",
       "6   30 September, 2016  \n",
       "7    31 December, 2016  \n",
       "8       31 March, 2017  \n",
       "9        30 June, 2017  \n",
       "10  30 September, 2017  \n",
       "11   31 December, 2017  "
      ]
     },
     "execution_count": 265,
     "metadata": {},
     "output_type": "execute_result"
    }
   ],
   "source": [
    "splitted_data"
   ]
  },
  {
   "cell_type": "markdown",
   "metadata": {},
   "source": [
    "As you can see, now our dates are so much clear than they were before"
   ]
  },
  {
   "cell_type": "code",
   "execution_count": 268,
   "metadata": {},
   "outputs": [
    {
     "data": {
      "text/plain": [
       "<matplotlib.axes._subplots.AxesSubplot at 0x1a231335f8>"
      ]
     },
     "execution_count": 268,
     "metadata": {},
     "output_type": "execute_result"
    },
    {
     "data": {
      "image/png": "[encoded data removed]",
      "text/plain": [
       "<Figure size 432x288 with 1 Axes>"
      ]
     },
     "metadata": {
      "needs_background": "light"
     },
     "output_type": "display_data"
    }
   ],
   "source": [
    "splitted_data.plot.bar(x = \"quarter\", y = \"#total_items\")"
   ]
  },
  {
   "cell_type": "code",
   "execution_count": null,
   "metadata": {},
   "outputs": [],
   "source": []
  }
 ],
 "metadata": {
  "kernelspec": {
   "display_name": "Python 3",
   "language": "python",
   "name": "python3"
  },
  "language_info": {
   "codemirror_mode": {
    "name": "ipython",
    "version": 3
   },
   "file_extension": ".py",
   "mimetype": "text/x-python",
   "name": "python",
   "nbconvert_exporter": "python",
   "pygments_lexer": "ipython3",
   "version": "3.7.1"
  }
 },
 "nbformat": 4,
 "nbformat_minor": 2
}
