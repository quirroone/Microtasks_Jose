{
 "cells": [
  {
   "cell_type": "markdown",
   "metadata": {},
   "source": [
    "# Microtask 2  (Implementing CHAOSS metrics with Perceval idea)\n",
    "\n",
    "By: José Alberto Marcial Sánchez"
   ]
  },
  {
   "cell_type": "markdown",
   "metadata": {},
   "source": [
    "## Table of contents\n",
    "<ol>\n",
    "    <li><a href=#objective>Objective</a></li>\n",
    "    <li><a href=#retrieving>Retrieving the data</a></li>\n",
    "    <li><a href=#defining>Defining functions to retrieve important info from issues, pull requests and commits</a></li>\n",
    "    <li><a href=#code_changes>The Code_Changes Class</a></li>\n",
    "    <li><a href=#split_by_quarters>The splitByQuarters function</a></li>\n",
    "    <li><a href=#usage_example>Usage example</a></li>\n",
    "    <li><a href=#passing_csv>Passing the dataframe to CSV</a></li>\n",
    "    <li><a href=#plotting>Useful Plots</a></li>\n",
    " <ol>"
   ]
  },
  {
   "cell_type": "markdown",
   "metadata": {},
   "source": [
    "<h2><a id=\"objective\" style=\"color:black;\">Objective</a></h2>\n",
    "<br>\n",
    "Produce a notebook showing (and producing) a list with the activity per quarter: number of new committers, submitters of issues, and submitters of pull/merge requests, number of items (commits, issues, pull/merge requests), number of repositories with new items (all of this per quarter) as a table and as a CSV file. Pandas can be used for this"
   ]
  },
  {
   "cell_type": "markdown",
   "metadata": {},
   "source": [
    "<h2><a id = \"retrieving\" style=\"color:black;\"> Retrieving the data </a></h2>\n",
    "<br>\n",
    "For this exercise, we are going to retrieve information from the following repositories using perceval:\n",
    "<ol>\n",
    "    <li><a href = \"https://github.com/google/blockly\"> Google Blockly </a></li>\n",
    "    <li><a href = \"https://github.com/google/copybara\"> Google Copybara</a></li>\n",
    "    <li><a href = \"https://github.com/google/dopamine\">Google Dopamine</a></li>\n",
    "</ol>"
   ]
  },
  {
   "cell_type": "markdown",
   "metadata": {},
   "source": [
    "### Date of retrieval: April 6th 2019\n"
   ]
  },
  {
   "cell_type": "markdown",
   "metadata": {},
   "source": [
    "The following commands were executed on the terminal to write the retrieved data to the info.json file. Remember that you need to replace the XXXX's with your Github API token"
   ]
  },
  {
   "cell_type": "markdown",
   "metadata": {},
   "source": [
    "```` \n",
    "Google Blockly\n",
    "retrieving commits\n",
    "perceval git --json-line https://github.com/google/blockly > info.json\n",
    "\n",
    "retrieving issues and pull requests\n",
    "perceval github --json-line --category issue google blockly --sleep-for-rate -t XXXX >> info.json\n",
    "\n",
    "Google Copybara\n",
    "retrieving commits\n",
    "perceval git --json-line https://github.com/google/copybara >> info.json\n",
    "\n",
    "retrieving issues and pull requests\n",
    "perceval github --json-line --category issue google copybara --sleep-for-rate -t XXXX >> info.json\n",
    "\n",
    "Google Dopamine\n",
    "retrieving commits\n",
    "perceval git --json-line https://github.com/google/dopamine >> info.json\n",
    "\n",
    "retrieving issues and pull requests\n",
    "perceval github --json-line --category issue google dopamine --sleep-for-rate -t XXXX >> info.json\n",
    "\n",
    "\n",
    "````"
   ]
  },
  {
   "cell_type": "markdown",
   "metadata": {},
   "source": [
    "<h2><a id = \"defining\" style = \"color:black;\">Defining functions to retrieve important info from issues, pull requests and commits</a></h2>"
   ]
  },
  {
   "cell_type": "code",
   "execution_count": 385,
   "metadata": {},
   "outputs": [],
   "source": [
    "import warnings\n",
    "warnings.filterwarnings('ignore')\n",
    "\n",
    "## Importing the necessary libraries for the analysis and data manipulation\n",
    "import json\n",
    "import datetime\n",
    "from datetime import datetime, timedelta, date\n",
    "import pandas as pd\n",
    "\n",
    "\n",
    "##plotting libraries\n",
    "import seaborn as sns\n",
    "import numpy as np\n",
    "import matplotlib.pyplot as plt\n",
    "from scipy import stats"
   ]
  },
  {
   "cell_type": "code",
   "execution_count": 274,
   "metadata": {},
   "outputs": [],
   "source": [
    "## Function based on the _summary function from the Code_changes class in the microstask 0 example\n",
    "\n",
    "def summarizeIssuePullRequest(issue):\n",
    "    '''\n",
    "    This is a function for summarizing issue's relevant information \n",
    "    \n",
    "    Parameters:\n",
    "    issue(dict) : json's file line describing an issue\n",
    "    \n",
    "    Returns:\n",
    "    dict: A non-nested dictionary which can be easily appended as a row of a dataframe\n",
    "    '''\n",
    "    cdata = issue['data']\n",
    "    \n",
    "    ##Adding just the relevant fields from the complete issue/pull\n",
    "    summary = {\n",
    "            'action': 'issue' if 'pull_request' not in cdata else 'pull_request',\n",
    "            'repo': issue['origin'],\n",
    "            'created_date': datetime.strptime(cdata['created_at'], \"%Y-%m-%dT%H:%M:%SZ\").date(),\n",
    "            'author' : cdata['user']['login']\n",
    "    }\n",
    "    return summary"
   ]
  },
  {
   "cell_type": "code",
   "execution_count": 275,
   "metadata": {},
   "outputs": [],
   "source": [
    "def summarizeCommit(commit):\n",
    "    '''\n",
    "    This is a function for summarizing commit's relevant information \n",
    "    \n",
    "    Parameters:\n",
    "    commit(dict) : json's file line describing a commit\n",
    "    \n",
    "    Returns:\n",
    "    dict: A non-nested dictionary which can be easily appended as a row of a dataframe\n",
    "    '''\n",
    "    cdata = commit['data']\n",
    "    \n",
    "    ##Adding just the relevant fields from the commit\n",
    "    summary = {\n",
    "            'action': 'commit',\n",
    "            'repo': commit['origin'],\n",
    "            ##converting the date from a string to date format\n",
    "            'created_date': datetime.strptime(cdata['CommitDate'],\"%a %b %d %H:%M:%S %Y %z\").date(),\n",
    "            'author' : cdata['Author']\n",
    "    }\n",
    "\n",
    "    return summary"
   ]
  },
  {
   "cell_type": "markdown",
   "metadata": {},
   "source": [
    "<h2><a id = \"code_changes\" style = \"color:black\">The Code_Changes Class</a></h2>"
   ]
  },
  {
   "cell_type": "code",
   "execution_count": 276,
   "metadata": {},
   "outputs": [],
   "source": [
    "##This class was taken from the Code_changes-Git notebook in the wf-gmd CHAOSS repository\n",
    "class Code_Changes:\n",
    "    \"\"\"\"Class for Code_Changes for Git repositories.\n",
    "    \n",
    "    Objects are instantiated by specifying a file with the\n",
    "    commits obtained by Perceval from a set of repositories.\n",
    "    \n",
    "    Contains individual list for Issues, Pull Requests and Commits\n",
    "        \n",
    "    :param path: Path to file with one Perceval JSON document per line\n",
    "    \"\"\"\n",
    "    \n",
    "    def __init__(self, path):\n",
    "        \n",
    "        self.changes = {'issue':[],'commit':[],'pull_request':[]}\n",
    "        with open(path) as data_file:\n",
    "            for data in data_file:\n",
    "                line = json.loads(data)\n",
    "                line_info = line['data']\n",
    "                if(line['category'] ==  'commit'):\n",
    "                    self.changes['commit'].append(summarizeCommit(line))\n",
    "                else:\n",
    "                    if ('pull_request' in line_info):\n",
    "                        self.changes['pull_request'].append(summarizeIssuePullRequest(line))\n",
    "                    else:\n",
    "                        self.changes['issue'].append(summarizeIssuePullRequest(line))\n",
    "        self.code_dataframe = {\n",
    "            'commit':pd.DataFrame.from_dict(self.changes['commit']),\n",
    "            'pull_request':pd.DataFrame.from_dict(self.changes['pull_request']),\n",
    "            'issue':pd.DataFrame.from_dict(self.changes['issue'])\n",
    "        }\n",
    "        \n",
    "        for frame in self.code_dataframe:\n",
    "            self.code_dataframe[frame]['created_date'] = pd.to_datetime(self.code_dataframe[frame]['created_date'])\n",
    "        \n",
    "    def count(self, since = None, until = None):\n",
    "        \"\"\"Count number of items in a given range of dates\n",
    "        \n",
    "        :param since: Period start\n",
    "        :param until: Period end\n",
    "        \"\"\"\n",
    "        totals = {\"commit\":0,\"issue\":0,\"pull_request\":0}\n",
    "        by_type = self.code_dataframe\n",
    "        for key in by_type:\n",
    "            df = by_type[key]\n",
    "            df = df[(df['created_date'] >= since) & (df['created_date'] <= until)]\n",
    "            totals[key] = len(df.index)\n",
    "            \n",
    "        return totals"
   ]
  },
  {
   "cell_type": "markdown",
   "metadata": {},
   "source": [
    "<h2><a id = \"split_by_quarters\" style = \"color:black\">The splitByQuarters function</a></h2>"
   ]
  },
  {
   "cell_type": "code",
   "execution_count": 386,
   "metadata": {},
   "outputs": [],
   "source": [
    "def splitByQuarters(first_year,last_year):\n",
    "    '''\n",
    "    The purpose of this function is creating a dictionary with all the existing quarters between the years passed as parameters\n",
    "    \n",
    "    Parameters:\n",
    "    first_year(int) : year from which quarters are going to be created\n",
    "    last_year(int) : year till which quarters are going to be created\n",
    "    \n",
    "    Returns:\n",
    "    dict: A dictionary including the dates for all existing quarters between the first_year and last_year parameters\n",
    "    '''\n",
    "    ##assigning dates to each quarter of a year\n",
    "    quarters = {'first':\n",
    "                {\n",
    "                    \"bday\":1,\"bmonth\":1,\"eday\":31,\"emonth\":3\n",
    "                },\n",
    "                \"second\":\n",
    "                {\n",
    "                    \"bday\":1,\"bmonth\":4,\"eday\":30,\"emonth\":6},\n",
    "                \"third\":\n",
    "                {\n",
    "                    \"bday\":1,\"bmonth\":7,\"eday\":30,\"emonth\":9},\n",
    "                \"fourth\":\n",
    "                {\n",
    "                    \"bday\":1,\"bmonth\":10,\"eday\":31,\"emonth\":12}\n",
    "               }\n",
    "    \n",
    "    ##dictionary to be returned. quarter list will include the name of the quarter e.g first, second, third, fourth\n",
    "    ##date_range is a list of tuples, each one specifying the starting date and the end date for a quarter\n",
    "    results = {\n",
    "        \"quarter\":[],\n",
    "        \"date_range\":[]\n",
    "    }\n",
    "    \n",
    "    ##We will create quarters for each year starting from the first_year and stopping in the last_year\n",
    "    for year in range(first_year,last_year + 1):\n",
    "        #for each year, we want to create 4 quarters, that's what this nested loop is doing\n",
    "        for quarter in quarters:\n",
    "            ##day and month in which the quarter begins\n",
    "            dayb = (quarters[quarter]['bday'])\n",
    "            monthb = (quarters[quarter]['bmonth'])\n",
    "            \n",
    "            ##day and month in which the quarter ends\n",
    "            daye = (quarters[quarter]['eday'])\n",
    "            monthe = (quarters[quarter]['emonth'])\n",
    "            \n",
    "            ##creating 2 date objects. They are composed of the day and month declared before, we are just adding the year\n",
    "            dateB = date(year, monthb,dayb)\n",
    "            dateF = date(year, monthe,daye)\n",
    "            \n",
    "            ##once we have the dates from which the current quarter is composed, we append them as a tuple and we also append the name of the quarter\n",
    "            results['quarter'].append(quarter)\n",
    "            results['date_range'].append((dateB,dateF)) \n",
    "            \n",
    "    return results"
   ]
  },
  {
   "cell_type": "markdown",
   "metadata": {},
   "source": [
    "<h2><a id = \"usage_example\" style = \"color:black\">Usage example</a></h2>"
   ]
  },
  {
   "cell_type": "code",
   "execution_count": 343,
   "metadata": {},
   "outputs": [],
   "source": [
    "#Creating a Code_Changes object with data from the info.json file\n",
    "data = Code_Changes('../Microtask_5/info.json')"
   ]
  },
  {
   "cell_type": "markdown",
   "metadata": {},
   "source": [
    "In the `splitted_data` variable we will be storing the dates corresponding to each quarter in the range of dates passed to the function. In this case we want to analyze activity in quarters from 2015 till 2017"
   ]
  },
  {
   "cell_type": "code",
   "execution_count": 387,
   "metadata": {
    "scrolled": true
   },
   "outputs": [
    {
     "data": {
      "text/plain": [
       "{'quarter': ['first',\n",
       "  'second',\n",
       "  'third',\n",
       "  'fourth',\n",
       "  'first',\n",
       "  'second',\n",
       "  'third',\n",
       "  'fourth',\n",
       "  'first',\n",
       "  'second',\n",
       "  'third',\n",
       "  'fourth'],\n",
       " 'date_range': [(datetime.date(2015, 1, 1), datetime.date(2015, 3, 31)),\n",
       "  (datetime.date(2015, 4, 1), datetime.date(2015, 6, 30)),\n",
       "  (datetime.date(2015, 7, 1), datetime.date(2015, 9, 30)),\n",
       "  (datetime.date(2015, 10, 1), datetime.date(2015, 12, 31)),\n",
       "  (datetime.date(2016, 1, 1), datetime.date(2016, 3, 31)),\n",
       "  (datetime.date(2016, 4, 1), datetime.date(2016, 6, 30)),\n",
       "  (datetime.date(2016, 7, 1), datetime.date(2016, 9, 30)),\n",
       "  (datetime.date(2016, 10, 1), datetime.date(2016, 12, 31)),\n",
       "  (datetime.date(2017, 1, 1), datetime.date(2017, 3, 31)),\n",
       "  (datetime.date(2017, 4, 1), datetime.date(2017, 6, 30)),\n",
       "  (datetime.date(2017, 7, 1), datetime.date(2017, 9, 30)),\n",
       "  (datetime.date(2017, 10, 1), datetime.date(2017, 12, 31))]}"
      ]
     },
     "execution_count": 387,
     "metadata": {},
     "output_type": "execute_result"
    }
   ],
   "source": [
    "##exam`le of the dictionary created by the splitByQuarters function\n",
    "splitted_data = splitByQuarters(2015,2017)\n",
    "splitted_data"
   ]
  },
  {
   "cell_type": "markdown",
   "metadata": {},
   "source": [
    "Once that we have our dates in a dictionary, we can start counting the number of items per category in our `data` object. Remeber, this object stores 1 dataframe per category, which are pull_request, issue and commit. So we will assign a variable for each of those categories, so we can be able to count how many of them exists per quarter"
   ]
  },
  {
   "cell_type": "code",
   "execution_count": 380,
   "metadata": {
    "scrolled": true
   },
   "outputs": [
    {
     "data": {
      "text/html": [
       "<div>\n",
       "<style scoped>\n",
       "    .dataframe tbody tr th:only-of-type {\n",
       "        vertical-align: middle;\n",
       "    }\n",
       "\n",
       "    .dataframe tbody tr th {\n",
       "        vertical-align: top;\n",
       "    }\n",
       "\n",
       "    .dataframe thead th {\n",
       "        text-align: right;\n",
       "    }\n",
       "</style>\n",
       "<table border=\"1\" class=\"dataframe\">\n",
       "  <thead>\n",
       "    <tr style=\"text-align: right;\">\n",
       "      <th></th>\n",
       "      <th>quarter</th>\n",
       "      <th>date_range</th>\n",
       "      <th>#pull_requests</th>\n",
       "      <th>#commits</th>\n",
       "      <th>#issues</th>\n",
       "      <th>#new_pull_requesters</th>\n",
       "      <th>#new_issuers</th>\n",
       "      <th>#new_committers</th>\n",
       "      <th>#total_items</th>\n",
       "    </tr>\n",
       "  </thead>\n",
       "  <tbody>\n",
       "    <tr>\n",
       "      <th>0</th>\n",
       "      <td>first</td>\n",
       "      <td>(2015-01-01, 2015-03-31)</td>\n",
       "      <td>28</td>\n",
       "      <td>113</td>\n",
       "      <td>24</td>\n",
       "      <td>14</td>\n",
       "      <td>14</td>\n",
       "      <td>10</td>\n",
       "      <td>165</td>\n",
       "    </tr>\n",
       "    <tr>\n",
       "      <th>1</th>\n",
       "      <td>second</td>\n",
       "      <td>(2015-04-01, 2015-06-30)</td>\n",
       "      <td>16</td>\n",
       "      <td>91</td>\n",
       "      <td>13</td>\n",
       "      <td>9</td>\n",
       "      <td>12</td>\n",
       "      <td>4</td>\n",
       "      <td>120</td>\n",
       "    </tr>\n",
       "    <tr>\n",
       "      <th>2</th>\n",
       "      <td>third</td>\n",
       "      <td>(2015-07-01, 2015-09-30)</td>\n",
       "      <td>31</td>\n",
       "      <td>147</td>\n",
       "      <td>34</td>\n",
       "      <td>9</td>\n",
       "      <td>10</td>\n",
       "      <td>6</td>\n",
       "      <td>212</td>\n",
       "    </tr>\n",
       "    <tr>\n",
       "      <th>3</th>\n",
       "      <td>fourth</td>\n",
       "      <td>(2015-10-01, 2015-12-31)</td>\n",
       "      <td>17</td>\n",
       "      <td>91</td>\n",
       "      <td>24</td>\n",
       "      <td>10</td>\n",
       "      <td>16</td>\n",
       "      <td>7</td>\n",
       "      <td>132</td>\n",
       "    </tr>\n",
       "    <tr>\n",
       "      <th>4</th>\n",
       "      <td>first</td>\n",
       "      <td>(2016-01-01, 2016-03-31)</td>\n",
       "      <td>47</td>\n",
       "      <td>202</td>\n",
       "      <td>33</td>\n",
       "      <td>17</td>\n",
       "      <td>13</td>\n",
       "      <td>12</td>\n",
       "      <td>282</td>\n",
       "    </tr>\n",
       "    <tr>\n",
       "      <th>5</th>\n",
       "      <td>second</td>\n",
       "      <td>(2016-04-01, 2016-06-30)</td>\n",
       "      <td>82</td>\n",
       "      <td>555</td>\n",
       "      <td>75</td>\n",
       "      <td>16</td>\n",
       "      <td>21</td>\n",
       "      <td>13</td>\n",
       "      <td>712</td>\n",
       "    </tr>\n",
       "    <tr>\n",
       "      <th>6</th>\n",
       "      <td>third</td>\n",
       "      <td>(2016-07-01, 2016-09-30)</td>\n",
       "      <td>128</td>\n",
       "      <td>594</td>\n",
       "      <td>72</td>\n",
       "      <td>16</td>\n",
       "      <td>21</td>\n",
       "      <td>19</td>\n",
       "      <td>794</td>\n",
       "    </tr>\n",
       "    <tr>\n",
       "      <th>7</th>\n",
       "      <td>fourth</td>\n",
       "      <td>(2016-10-01, 2016-12-31)</td>\n",
       "      <td>76</td>\n",
       "      <td>387</td>\n",
       "      <td>63</td>\n",
       "      <td>4</td>\n",
       "      <td>13</td>\n",
       "      <td>7</td>\n",
       "      <td>526</td>\n",
       "    </tr>\n",
       "    <tr>\n",
       "      <th>8</th>\n",
       "      <td>first</td>\n",
       "      <td>(2017-01-01, 2017-03-31)</td>\n",
       "      <td>120</td>\n",
       "      <td>308</td>\n",
       "      <td>99</td>\n",
       "      <td>10</td>\n",
       "      <td>21</td>\n",
       "      <td>12</td>\n",
       "      <td>527</td>\n",
       "    </tr>\n",
       "    <tr>\n",
       "      <th>9</th>\n",
       "      <td>second</td>\n",
       "      <td>(2017-04-01, 2017-06-30)</td>\n",
       "      <td>132</td>\n",
       "      <td>261</td>\n",
       "      <td>72</td>\n",
       "      <td>14</td>\n",
       "      <td>16</td>\n",
       "      <td>12</td>\n",
       "      <td>465</td>\n",
       "    </tr>\n",
       "    <tr>\n",
       "      <th>10</th>\n",
       "      <td>third</td>\n",
       "      <td>(2017-07-01, 2017-09-30)</td>\n",
       "      <td>76</td>\n",
       "      <td>197</td>\n",
       "      <td>80</td>\n",
       "      <td>12</td>\n",
       "      <td>20</td>\n",
       "      <td>11</td>\n",
       "      <td>353</td>\n",
       "    </tr>\n",
       "    <tr>\n",
       "      <th>11</th>\n",
       "      <td>fourth</td>\n",
       "      <td>(2017-10-01, 2017-12-31)</td>\n",
       "      <td>90</td>\n",
       "      <td>367</td>\n",
       "      <td>90</td>\n",
       "      <td>10</td>\n",
       "      <td>18</td>\n",
       "      <td>10</td>\n",
       "      <td>547</td>\n",
       "    </tr>\n",
       "  </tbody>\n",
       "</table>\n",
       "</div>"
      ],
      "text/plain": [
       "   quarter                date_range  #pull_requests  #commits  #issues  \\\n",
       "0    first  (2015-01-01, 2015-03-31)              28       113       24   \n",
       "1   second  (2015-04-01, 2015-06-30)              16        91       13   \n",
       "2    third  (2015-07-01, 2015-09-30)              31       147       34   \n",
       "3   fourth  (2015-10-01, 2015-12-31)              17        91       24   \n",
       "4    first  (2016-01-01, 2016-03-31)              47       202       33   \n",
       "5   second  (2016-04-01, 2016-06-30)              82       555       75   \n",
       "6    third  (2016-07-01, 2016-09-30)             128       594       72   \n",
       "7   fourth  (2016-10-01, 2016-12-31)              76       387       63   \n",
       "8    first  (2017-01-01, 2017-03-31)             120       308       99   \n",
       "9   second  (2017-04-01, 2017-06-30)             132       261       72   \n",
       "10   third  (2017-07-01, 2017-09-30)              76       197       80   \n",
       "11  fourth  (2017-10-01, 2017-12-31)              90       367       90   \n",
       "\n",
       "    #new_pull_requesters  #new_issuers  #new_committers  #total_items  \n",
       "0                     14            14               10           165  \n",
       "1                      9            12                4           120  \n",
       "2                      9            10                6           212  \n",
       "3                     10            16                7           132  \n",
       "4                     17            13               12           282  \n",
       "5                     16            21               13           712  \n",
       "6                     16            21               19           794  \n",
       "7                      4            13                7           526  \n",
       "8                     10            21               12           527  \n",
       "9                     14            16               12           465  \n",
       "10                    12            20               11           353  \n",
       "11                    10            18               10           547  "
      ]
     },
     "execution_count": 380,
     "metadata": {},
     "output_type": "execute_result"
    }
   ],
   "source": [
    "#creating variables referring to the different dataframes created by our 'data' Code_Changes object\n",
    "pull_requests = data.code_dataframe['pull_request']\n",
    "commits = data.code_dataframe['commit']\n",
    "issues = data.code_dataframe['issue']\n",
    "\n",
    "#adding fields to our original dictionary of quarters in which we will be storing the count for each category, the sum of them and the number of new contributors per category\n",
    "splitted_data['#pull_requests'] = []\n",
    "splitted_data['#commits'] = []\n",
    "splitted_data['#issues'] = []\n",
    "splitted_data['#new_pull_requesters'] = []\n",
    "splitted_data['#new_issuers'] = []\n",
    "splitted_data['#new_committers'] = []\n",
    "splitted_data['#total_items'] = []\n",
    "\n",
    "\n",
    "##In these dictionaries, we will keep the contributors to each category and we will be refreshing it's size info inside the for loop\n",
    "unique_pull_requesters = {'authors':[], 'size':0}\n",
    "unique_committers = {'authors':[], 'size':0}\n",
    "unique_issuers  = {'authors':[], 'size':0}\n",
    "\n",
    "##traversing the date_range tuples from the splitted_data variable, each tuple represent a quarter's begin and end dates\n",
    "for dates in splitted_data['date_range']:\n",
    "    curr_pull_requests = pull_requests[(pull_requests['created_date'] >= dates[0]) & (pull_requests['created_date'] <= dates[1])]\n",
    "    curr_commits = commits[(commits['created_date'] >= dates[0]) & (commits['created_date'] <= dates[1])]\n",
    "    curr_issues = issues[(issues['created_date'] >= dates[0]) & (issues['created_date'] <= dates[1])]\n",
    "    #number of pull requests that were created in the dates range of the current quarter \n",
    "    total_pull_requests = (len(curr_pull_requests.index))\n",
    "    #number of commits that were created in the dates range of the current quarter \n",
    "    total_commits = (len(curr_commits.index))\n",
    "    #number of issues that were created in the dates range of the current quarter \n",
    "    total_issues = (len(curr_issues.index))\n",
    "    \n",
    "    #Adding authors from the current quarter to our author lists per category\n",
    "    unique_pull_requesters['authors'].extend(curr_pull_requests['author'].unique())\n",
    "    unique_committers['authors'].extend(curr_commits['author'].unique())\n",
    "    unique_issuers['authors'].extend(curr_issues['author'].unique())\n",
    "    \n",
    "    \n",
    "    #appending the previous counts to our splitted_data dictionary in it's respective field\n",
    "    splitted_data['#pull_requests'].append(total_pull_requests)\n",
    "    splitted_data['#commits'].append(total_commits)\n",
    "    splitted_data['#issues'].append(total_issues)\n",
    "    splitted_data['#total_items'].append(total_pull_requests + total_commits + total_issues)\n",
    "    \n",
    "    #number of new contributors in the 3 categories is equal to the current length on unique values in the authors list minus the previous one\n",
    "    #refreshing the number of unique contributors based on the current quarter for each category\n",
    "    splitted_data['#new_pull_requesters'].append((len(set(unique_pull_requesters['authors']))) - unique_pull_requesters['size'])\n",
    "    unique_pull_requesters['size'] = len(set(unique_pull_requesters['authors']))\n",
    "    splitted_data['#new_issuers'].append((len(set(unique_issuers['authors']))) - unique_issuers['size'])\n",
    "    unique_issuers['size'] = len(set(unique_issuers['authors']))\n",
    "    splitted_data['#new_committers'].append((len(set(unique_committers['authors']))) - unique_committers['size'])\n",
    "    unique_committers['size'] = len(set(unique_committers['authors']))\n",
    "    \n",
    "\n",
    "#creating a pandas dataframe from the dictionary we just created in the for loop\n",
    "splitted_data_df = pd.DataFrame.from_dict(splitted_data)\n",
    "splitted_data_df"
   ]
  },
  {
   "cell_type": "markdown",
   "metadata": {},
   "source": [
    "As we can see,our dataframe was created succesfully, but the `date_range` column is not looking so good, so first we will divide this column in 2 new ones and then we will format those dates using the `strftime method` so we can be able to read them easier"
   ]
  },
  {
   "cell_type": "code",
   "execution_count": 381,
   "metadata": {
    "scrolled": true
   },
   "outputs": [
    {
     "data": {
      "text/plain": [
       "quarter                 object\n",
       "#pull_requests           int64\n",
       "#commits                 int64\n",
       "#issues                  int64\n",
       "#new_pull_requesters     int64\n",
       "#new_issuers             int64\n",
       "#new_committers          int64\n",
       "#total_items             int64\n",
       "Date_beginning          object\n",
       "Date_End                object\n",
       "dtype: object"
      ]
     },
     "execution_count": 381,
     "metadata": {},
     "output_type": "execute_result"
    }
   ],
   "source": [
    "##splitting column into two new ones Date_beginning and Date_End\n",
    "splitted_data_df[['Date_beginning', 'Date_End']] = pd.DataFrame(splitted_data_df['date_range'].tolist(), index=splitted_data_df.index)\n",
    "#dropping the date_range column since we won't use it anymore\n",
    "splitted_data_df.drop(columns = 'date_range', inplace = True)\n",
    "#verifying data types of the columns in our dataframe\n",
    "splitted_data_df.dtypes"
   ]
  },
  {
   "cell_type": "markdown",
   "metadata": {},
   "source": [
    "As you may see, our `Date_beginning` and `Date_End` columns are objects, so we will need to change their datatype to datetime before formmatting it. We will do this with the `to_datetime` pandas function"
   ]
  },
  {
   "cell_type": "code",
   "execution_count": 382,
   "metadata": {
    "scrolled": true
   },
   "outputs": [
    {
     "data": {
      "text/plain": [
       "quarter                         object\n",
       "#pull_requests                   int64\n",
       "#commits                         int64\n",
       "#issues                          int64\n",
       "#new_pull_requesters             int64\n",
       "#new_issuers                     int64\n",
       "#new_committers                  int64\n",
       "#total_items                     int64\n",
       "Date_beginning          datetime64[ns]\n",
       "Date_End                datetime64[ns]\n",
       "dtype: object"
      ]
     },
     "execution_count": 382,
     "metadata": {},
     "output_type": "execute_result"
    }
   ],
   "source": [
    "splitted_data_df['Date_beginning'] = pd.to_datetime(splitted_data_df['Date_beginning'])\n",
    "splitted_data_df['Date_End'] = pd.to_datetime(splitted_data_df['Date_End'])\n",
    "splitted_data_df.dtypes"
   ]
  },
  {
   "cell_type": "code",
   "execution_count": 383,
   "metadata": {
    "scrolled": true
   },
   "outputs": [],
   "source": [
    "#formatting the columns to have a more legible date\n",
    "splitted_data_df['Date_beginning'] = splitted_data_df['Date_beginning'].dt.strftime(\"%d %B, %Y\")\n",
    "splitted_data_df['Date_End'] = splitted_data_df['Date_End'].dt.strftime(\"%d %B, %Y\")"
   ]
  },
  {
   "cell_type": "code",
   "execution_count": 384,
   "metadata": {
    "scrolled": true
   },
   "outputs": [
    {
     "data": {
      "text/html": [
       "<div>\n",
       "<style scoped>\n",
       "    .dataframe tbody tr th:only-of-type {\n",
       "        vertical-align: middle;\n",
       "    }\n",
       "\n",
       "    .dataframe tbody tr th {\n",
       "        vertical-align: top;\n",
       "    }\n",
       "\n",
       "    .dataframe thead th {\n",
       "        text-align: right;\n",
       "    }\n",
       "</style>\n",
       "<table border=\"1\" class=\"dataframe\">\n",
       "  <thead>\n",
       "    <tr style=\"text-align: right;\">\n",
       "      <th></th>\n",
       "      <th>quarter</th>\n",
       "      <th>#pull_requests</th>\n",
       "      <th>#commits</th>\n",
       "      <th>#issues</th>\n",
       "      <th>#new_pull_requesters</th>\n",
       "      <th>#new_issuers</th>\n",
       "      <th>#new_committers</th>\n",
       "      <th>#total_items</th>\n",
       "      <th>Date_beginning</th>\n",
       "      <th>Date_End</th>\n",
       "    </tr>\n",
       "  </thead>\n",
       "  <tbody>\n",
       "    <tr>\n",
       "      <th>0</th>\n",
       "      <td>first</td>\n",
       "      <td>28</td>\n",
       "      <td>113</td>\n",
       "      <td>24</td>\n",
       "      <td>14</td>\n",
       "      <td>14</td>\n",
       "      <td>10</td>\n",
       "      <td>165</td>\n",
       "      <td>01 January, 2015</td>\n",
       "      <td>31 March, 2015</td>\n",
       "    </tr>\n",
       "    <tr>\n",
       "      <th>1</th>\n",
       "      <td>second</td>\n",
       "      <td>16</td>\n",
       "      <td>91</td>\n",
       "      <td>13</td>\n",
       "      <td>9</td>\n",
       "      <td>12</td>\n",
       "      <td>4</td>\n",
       "      <td>120</td>\n",
       "      <td>01 April, 2015</td>\n",
       "      <td>30 June, 2015</td>\n",
       "    </tr>\n",
       "    <tr>\n",
       "      <th>2</th>\n",
       "      <td>third</td>\n",
       "      <td>31</td>\n",
       "      <td>147</td>\n",
       "      <td>34</td>\n",
       "      <td>9</td>\n",
       "      <td>10</td>\n",
       "      <td>6</td>\n",
       "      <td>212</td>\n",
       "      <td>01 July, 2015</td>\n",
       "      <td>30 September, 2015</td>\n",
       "    </tr>\n",
       "    <tr>\n",
       "      <th>3</th>\n",
       "      <td>fourth</td>\n",
       "      <td>17</td>\n",
       "      <td>91</td>\n",
       "      <td>24</td>\n",
       "      <td>10</td>\n",
       "      <td>16</td>\n",
       "      <td>7</td>\n",
       "      <td>132</td>\n",
       "      <td>01 October, 2015</td>\n",
       "      <td>31 December, 2015</td>\n",
       "    </tr>\n",
       "    <tr>\n",
       "      <th>4</th>\n",
       "      <td>first</td>\n",
       "      <td>47</td>\n",
       "      <td>202</td>\n",
       "      <td>33</td>\n",
       "      <td>17</td>\n",
       "      <td>13</td>\n",
       "      <td>12</td>\n",
       "      <td>282</td>\n",
       "      <td>01 January, 2016</td>\n",
       "      <td>31 March, 2016</td>\n",
       "    </tr>\n",
       "    <tr>\n",
       "      <th>5</th>\n",
       "      <td>second</td>\n",
       "      <td>82</td>\n",
       "      <td>555</td>\n",
       "      <td>75</td>\n",
       "      <td>16</td>\n",
       "      <td>21</td>\n",
       "      <td>13</td>\n",
       "      <td>712</td>\n",
       "      <td>01 April, 2016</td>\n",
       "      <td>30 June, 2016</td>\n",
       "    </tr>\n",
       "    <tr>\n",
       "      <th>6</th>\n",
       "      <td>third</td>\n",
       "      <td>128</td>\n",
       "      <td>594</td>\n",
       "      <td>72</td>\n",
       "      <td>16</td>\n",
       "      <td>21</td>\n",
       "      <td>19</td>\n",
       "      <td>794</td>\n",
       "      <td>01 July, 2016</td>\n",
       "      <td>30 September, 2016</td>\n",
       "    </tr>\n",
       "    <tr>\n",
       "      <th>7</th>\n",
       "      <td>fourth</td>\n",
       "      <td>76</td>\n",
       "      <td>387</td>\n",
       "      <td>63</td>\n",
       "      <td>4</td>\n",
       "      <td>13</td>\n",
       "      <td>7</td>\n",
       "      <td>526</td>\n",
       "      <td>01 October, 2016</td>\n",
       "      <td>31 December, 2016</td>\n",
       "    </tr>\n",
       "    <tr>\n",
       "      <th>8</th>\n",
       "      <td>first</td>\n",
       "      <td>120</td>\n",
       "      <td>308</td>\n",
       "      <td>99</td>\n",
       "      <td>10</td>\n",
       "      <td>21</td>\n",
       "      <td>12</td>\n",
       "      <td>527</td>\n",
       "      <td>01 January, 2017</td>\n",
       "      <td>31 March, 2017</td>\n",
       "    </tr>\n",
       "    <tr>\n",
       "      <th>9</th>\n",
       "      <td>second</td>\n",
       "      <td>132</td>\n",
       "      <td>261</td>\n",
       "      <td>72</td>\n",
       "      <td>14</td>\n",
       "      <td>16</td>\n",
       "      <td>12</td>\n",
       "      <td>465</td>\n",
       "      <td>01 April, 2017</td>\n",
       "      <td>30 June, 2017</td>\n",
       "    </tr>\n",
       "    <tr>\n",
       "      <th>10</th>\n",
       "      <td>third</td>\n",
       "      <td>76</td>\n",
       "      <td>197</td>\n",
       "      <td>80</td>\n",
       "      <td>12</td>\n",
       "      <td>20</td>\n",
       "      <td>11</td>\n",
       "      <td>353</td>\n",
       "      <td>01 July, 2017</td>\n",
       "      <td>30 September, 2017</td>\n",
       "    </tr>\n",
       "    <tr>\n",
       "      <th>11</th>\n",
       "      <td>fourth</td>\n",
       "      <td>90</td>\n",
       "      <td>367</td>\n",
       "      <td>90</td>\n",
       "      <td>10</td>\n",
       "      <td>18</td>\n",
       "      <td>10</td>\n",
       "      <td>547</td>\n",
       "      <td>01 October, 2017</td>\n",
       "      <td>31 December, 2017</td>\n",
       "    </tr>\n",
       "  </tbody>\n",
       "</table>\n",
       "</div>"
      ],
      "text/plain": [
       "   quarter  #pull_requests  #commits  #issues  #new_pull_requesters  \\\n",
       "0    first              28       113       24                    14   \n",
       "1   second              16        91       13                     9   \n",
       "2    third              31       147       34                     9   \n",
       "3   fourth              17        91       24                    10   \n",
       "4    first              47       202       33                    17   \n",
       "5   second              82       555       75                    16   \n",
       "6    third             128       594       72                    16   \n",
       "7   fourth              76       387       63                     4   \n",
       "8    first             120       308       99                    10   \n",
       "9   second             132       261       72                    14   \n",
       "10   third              76       197       80                    12   \n",
       "11  fourth              90       367       90                    10   \n",
       "\n",
       "    #new_issuers  #new_committers  #total_items    Date_beginning  \\\n",
       "0             14               10           165  01 January, 2015   \n",
       "1             12                4           120    01 April, 2015   \n",
       "2             10                6           212     01 July, 2015   \n",
       "3             16                7           132  01 October, 2015   \n",
       "4             13               12           282  01 January, 2016   \n",
       "5             21               13           712    01 April, 2016   \n",
       "6             21               19           794     01 July, 2016   \n",
       "7             13                7           526  01 October, 2016   \n",
       "8             21               12           527  01 January, 2017   \n",
       "9             16               12           465    01 April, 2017   \n",
       "10            20               11           353     01 July, 2017   \n",
       "11            18               10           547  01 October, 2017   \n",
       "\n",
       "              Date_End  \n",
       "0       31 March, 2015  \n",
       "1        30 June, 2015  \n",
       "2   30 September, 2015  \n",
       "3    31 December, 2015  \n",
       "4       31 March, 2016  \n",
       "5        30 June, 2016  \n",
       "6   30 September, 2016  \n",
       "7    31 December, 2016  \n",
       "8       31 March, 2017  \n",
       "9        30 June, 2017  \n",
       "10  30 September, 2017  \n",
       "11   31 December, 2017  "
      ]
     },
     "execution_count": 384,
     "metadata": {},
     "output_type": "execute_result"
    }
   ],
   "source": [
    "splitted_data_df"
   ]
  },
  {
   "cell_type": "markdown",
   "metadata": {},
   "source": [
    "As you can see, now our dates are so much clear now than they were before"
   ]
  },
  {
   "cell_type": "markdown",
   "metadata": {},
   "source": [
    "<h2><a id=\"passing_csv\" style = \"color:black;\">Passing the dataframe to CSV</a></h2>"
   ]
  },
  {
   "cell_type": "markdown",
   "metadata": {},
   "source": [
    "In this example, we will create a csv file called info_by_quarters.csv, we will write our whole `splitted_data_df` in it"
   ]
  },
  {
   "cell_type": "code",
   "execution_count": 364,
   "metadata": {},
   "outputs": [],
   "source": [
    "splitted_data_df.to_csv('info_by_quarters.csv')"
   ]
  },
  {
   "cell_type": "markdown",
   "metadata": {},
   "source": [
    "<h2><a id=\"plotting\" style=\"color:black;\">Useful Plots</a></h2>"
   ]
  },
  {
   "cell_type": "markdown",
   "metadata": {},
   "source": [
    "Let's see in which quarter the highest number of issues, pull requests and commits were created. To do this, we will group the dataframe by it's `quarter` column and we will make a sum of the `#total_items` column for each group"
   ]
  },
  {
   "cell_type": "code",
   "execution_count": 373,
   "metadata": {},
   "outputs": [
    {
     "data": {
      "text/plain": [
       "quarter\n",
       "first      974\n",
       "fourth    1205\n",
       "second    1297\n",
       "third     1359\n",
       "Name: #total_items, dtype: int64"
      ]
     },
     "execution_count": 373,
     "metadata": {},
     "output_type": "execute_result"
    }
   ],
   "source": [
    "grouped_by_quarter = splitted_data_df.groupby('quarter').sum()['#total_items']\n",
    "grouped_by_quarter"
   ]
  },
  {
   "cell_type": "code",
   "execution_count": 372,
   "metadata": {
    "scrolled": true
   },
   "outputs": [
    {
     "data": {
      "text/plain": [
       "<matplotlib.axes._subplots.AxesSubplot at 0x1a2293f390>"
      ]
     },
     "execution_count": 372,
     "metadata": {},
     "output_type": "execute_result"
    },
    {
     "data": {
      "image/png": "[encoded data removed]",
      "text/plain": [
       "<Figure size 432x288 with 1 Axes>"
      ]
     },
     "metadata": {
      "needs_background": "light"
     },
     "output_type": "display_data"
    }
   ],
   "source": [
    "grouped_by_quarter.plot.bar(x = \"quarter\", y = \"#total_items\")"
   ]
  },
  {
   "cell_type": "markdown",
   "metadata": {},
   "source": [
    " As we see, we made a sum of each quarter items for every year, and we can notice that the quarter with more activity from 2015 till 2017 was the third quarter"
   ]
  }
 ],
 "metadata": {
  "kernelspec": {
   "display_name": "Python 3",
   "language": "python",
   "name": "python3"
  },
  "language_info": {
   "codemirror_mode": {
    "name": "ipython",
    "version": 3
   },
   "file_extension": ".py",
   "mimetype": "text/x-python",
   "name": "python",
   "nbconvert_exporter": "python",
   "pygments_lexer": "ipython3",
   "version": "3.7.1"
  }
 },
 "nbformat": 4,
 "nbformat_minor": 2
}
